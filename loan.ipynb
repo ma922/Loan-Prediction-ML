{
 "cells": [
  {
   "cell_type": "code",
   "execution_count": 1,
   "metadata": {},
   "outputs": [],
   "source": [
    "# Import necessary modules and functions\n",
    "\n",
    "import pandas as pd\n",
    "import seaborn as sns\n",
    "import numpy as np\n",
    "import sklearn \n",
    "import math\n",
    "\n",
    "import matplotlib.pyplot as plt\n",
    "%matplotlib inline\n",
    "\n",
    "from matplotlib.pylab import rcParams\n",
    "rcParams['figure.figsize'] = 10, 8\n",
    "\n",
    "from scipy.stats import norm\n",
    "from scipy import stats\n",
    "\n",
    "from sklearn.preprocessing import StandardScaler\n",
    "from sklearn.model_selection import train_test_split\n",
    "\n",
    "import warnings\n",
    "warnings.filterwarnings('ignore')"
   ]
  },
  {
   "cell_type": "code",
   "execution_count": 2,
   "metadata": {},
   "outputs": [],
   "source": [
    "from sklearn.metrics import accuracy_score\n",
    "from sklearn.metrics import precision_score\n",
    "from sklearn.metrics import recall_score\n",
    "from sklearn.tree import DecisionTreeClassifier\n",
    "from sklearn.metrics import accuracy_score\n",
    "from sklearn.model_selection import cross_val_score\n",
    "from sklearn.ensemble import RandomForestClassifier"
   ]
  },
  {
   "cell_type": "code",
   "execution_count": 3,
   "metadata": {},
   "outputs": [],
   "source": [
    "from scipy.stats import expon as sp_expon\n",
    "from scipy.stats import randint as sp_randint"
   ]
  },
  {
   "cell_type": "code",
   "execution_count": 4,
   "metadata": {},
   "outputs": [],
   "source": [
    "from sklearn.linear_model import LinearRegression\n",
    "model = LinearRegression()"
   ]
  },
  {
   "cell_type": "code",
   "execution_count": 5,
   "metadata": {},
   "outputs": [],
   "source": [
    "pd.options.display.max_rows = 20\n",
    "np.set_printoptions(precision = 4, suppress = True)"
   ]
  },
  {
   "cell_type": "code",
   "execution_count": 6,
   "metadata": {},
   "outputs": [],
   "source": [
    "# train file open\n",
    "train_file = 'train.csv'\n",
    "df = pd.read_csv(train_file, delimiter=',')"
   ]
  },
  {
   "cell_type": "code",
   "execution_count": 7,
   "metadata": {},
   "outputs": [
    {
     "data": {
      "text/plain": [
       "array(['Loan_ID', 'Gender', 'Married', 'Dependents', 'Education',\n",
       "       'Self_Employed', 'ApplicantIncome', 'CoapplicantIncome',\n",
       "       'LoanAmount', 'Loan_Amount_Term', 'Credit_History',\n",
       "       'Property_Area', 'Loan_Status'], dtype=object)"
      ]
     },
     "execution_count": 7,
     "metadata": {},
     "output_type": "execute_result"
    }
   ],
   "source": [
    "# column names in dataframe\n",
    "df.columns.values"
   ]
  },
  {
   "cell_type": "code",
   "execution_count": 8,
   "metadata": {},
   "outputs": [
    {
     "data": {
      "text/plain": [
       "Loan_ID               0\n",
       "Gender               13\n",
       "Married               3\n",
       "Dependents           15\n",
       "Education             0\n",
       "Self_Employed        32\n",
       "ApplicantIncome       0\n",
       "CoapplicantIncome     0\n",
       "LoanAmount           22\n",
       "Loan_Amount_Term     14\n",
       "Credit_History       50\n",
       "Property_Area         0\n",
       "Loan_Status           0\n",
       "dtype: int64"
      ]
     },
     "execution_count": 8,
     "metadata": {},
     "output_type": "execute_result"
    }
   ],
   "source": [
    "# Check how many entries are missing for the selected features\n",
    "df.isnull().sum()"
   ]
  },
  {
   "cell_type": "code",
   "execution_count": 9,
   "metadata": {},
   "outputs": [],
   "source": [
    "df = df.drop(columns = ['Loan_ID'])"
   ]
  },
  {
   "cell_type": "code",
   "execution_count": 10,
   "metadata": {},
   "outputs": [
    {
     "data": {
      "text/html": [
       "<div>\n",
       "<style scoped>\n",
       "    .dataframe tbody tr th:only-of-type {\n",
       "        vertical-align: middle;\n",
       "    }\n",
       "\n",
       "    .dataframe tbody tr th {\n",
       "        vertical-align: top;\n",
       "    }\n",
       "\n",
       "    .dataframe thead th {\n",
       "        text-align: right;\n",
       "    }\n",
       "</style>\n",
       "<table border=\"1\" class=\"dataframe\">\n",
       "  <thead>\n",
       "    <tr style=\"text-align: right;\">\n",
       "      <th></th>\n",
       "      <th>Gender</th>\n",
       "      <th>Married</th>\n",
       "      <th>Dependents</th>\n",
       "      <th>Education</th>\n",
       "      <th>Self_Employed</th>\n",
       "      <th>ApplicantIncome</th>\n",
       "      <th>CoapplicantIncome</th>\n",
       "      <th>LoanAmount</th>\n",
       "      <th>Loan_Amount_Term</th>\n",
       "      <th>Credit_History</th>\n",
       "      <th>Property_Area</th>\n",
       "      <th>Loan_Status</th>\n",
       "    </tr>\n",
       "  </thead>\n",
       "  <tbody>\n",
       "    <tr>\n",
       "      <th>0</th>\n",
       "      <td>Male</td>\n",
       "      <td>No</td>\n",
       "      <td>0</td>\n",
       "      <td>Graduate</td>\n",
       "      <td>No</td>\n",
       "      <td>5849</td>\n",
       "      <td>0.0</td>\n",
       "      <td>NaN</td>\n",
       "      <td>360.0</td>\n",
       "      <td>1.0</td>\n",
       "      <td>Urban</td>\n",
       "      <td>Y</td>\n",
       "    </tr>\n",
       "    <tr>\n",
       "      <th>1</th>\n",
       "      <td>Male</td>\n",
       "      <td>Yes</td>\n",
       "      <td>1</td>\n",
       "      <td>Graduate</td>\n",
       "      <td>No</td>\n",
       "      <td>4583</td>\n",
       "      <td>1508.0</td>\n",
       "      <td>128.0</td>\n",
       "      <td>360.0</td>\n",
       "      <td>1.0</td>\n",
       "      <td>Rural</td>\n",
       "      <td>N</td>\n",
       "    </tr>\n",
       "    <tr>\n",
       "      <th>2</th>\n",
       "      <td>Male</td>\n",
       "      <td>Yes</td>\n",
       "      <td>0</td>\n",
       "      <td>Graduate</td>\n",
       "      <td>Yes</td>\n",
       "      <td>3000</td>\n",
       "      <td>0.0</td>\n",
       "      <td>66.0</td>\n",
       "      <td>360.0</td>\n",
       "      <td>1.0</td>\n",
       "      <td>Urban</td>\n",
       "      <td>Y</td>\n",
       "    </tr>\n",
       "    <tr>\n",
       "      <th>3</th>\n",
       "      <td>Male</td>\n",
       "      <td>Yes</td>\n",
       "      <td>0</td>\n",
       "      <td>Not Graduate</td>\n",
       "      <td>No</td>\n",
       "      <td>2583</td>\n",
       "      <td>2358.0</td>\n",
       "      <td>120.0</td>\n",
       "      <td>360.0</td>\n",
       "      <td>1.0</td>\n",
       "      <td>Urban</td>\n",
       "      <td>Y</td>\n",
       "    </tr>\n",
       "    <tr>\n",
       "      <th>4</th>\n",
       "      <td>Male</td>\n",
       "      <td>No</td>\n",
       "      <td>0</td>\n",
       "      <td>Graduate</td>\n",
       "      <td>No</td>\n",
       "      <td>6000</td>\n",
       "      <td>0.0</td>\n",
       "      <td>141.0</td>\n",
       "      <td>360.0</td>\n",
       "      <td>1.0</td>\n",
       "      <td>Urban</td>\n",
       "      <td>Y</td>\n",
       "    </tr>\n",
       "    <tr>\n",
       "      <th>...</th>\n",
       "      <td>...</td>\n",
       "      <td>...</td>\n",
       "      <td>...</td>\n",
       "      <td>...</td>\n",
       "      <td>...</td>\n",
       "      <td>...</td>\n",
       "      <td>...</td>\n",
       "      <td>...</td>\n",
       "      <td>...</td>\n",
       "      <td>...</td>\n",
       "      <td>...</td>\n",
       "      <td>...</td>\n",
       "    </tr>\n",
       "    <tr>\n",
       "      <th>609</th>\n",
       "      <td>Female</td>\n",
       "      <td>No</td>\n",
       "      <td>0</td>\n",
       "      <td>Graduate</td>\n",
       "      <td>No</td>\n",
       "      <td>2900</td>\n",
       "      <td>0.0</td>\n",
       "      <td>71.0</td>\n",
       "      <td>360.0</td>\n",
       "      <td>1.0</td>\n",
       "      <td>Rural</td>\n",
       "      <td>Y</td>\n",
       "    </tr>\n",
       "    <tr>\n",
       "      <th>610</th>\n",
       "      <td>Male</td>\n",
       "      <td>Yes</td>\n",
       "      <td>3+</td>\n",
       "      <td>Graduate</td>\n",
       "      <td>No</td>\n",
       "      <td>4106</td>\n",
       "      <td>0.0</td>\n",
       "      <td>40.0</td>\n",
       "      <td>180.0</td>\n",
       "      <td>1.0</td>\n",
       "      <td>Rural</td>\n",
       "      <td>Y</td>\n",
       "    </tr>\n",
       "    <tr>\n",
       "      <th>611</th>\n",
       "      <td>Male</td>\n",
       "      <td>Yes</td>\n",
       "      <td>1</td>\n",
       "      <td>Graduate</td>\n",
       "      <td>No</td>\n",
       "      <td>8072</td>\n",
       "      <td>240.0</td>\n",
       "      <td>253.0</td>\n",
       "      <td>360.0</td>\n",
       "      <td>1.0</td>\n",
       "      <td>Urban</td>\n",
       "      <td>Y</td>\n",
       "    </tr>\n",
       "    <tr>\n",
       "      <th>612</th>\n",
       "      <td>Male</td>\n",
       "      <td>Yes</td>\n",
       "      <td>2</td>\n",
       "      <td>Graduate</td>\n",
       "      <td>No</td>\n",
       "      <td>7583</td>\n",
       "      <td>0.0</td>\n",
       "      <td>187.0</td>\n",
       "      <td>360.0</td>\n",
       "      <td>1.0</td>\n",
       "      <td>Urban</td>\n",
       "      <td>Y</td>\n",
       "    </tr>\n",
       "    <tr>\n",
       "      <th>613</th>\n",
       "      <td>Female</td>\n",
       "      <td>No</td>\n",
       "      <td>0</td>\n",
       "      <td>Graduate</td>\n",
       "      <td>Yes</td>\n",
       "      <td>4583</td>\n",
       "      <td>0.0</td>\n",
       "      <td>133.0</td>\n",
       "      <td>360.0</td>\n",
       "      <td>0.0</td>\n",
       "      <td>Semiurban</td>\n",
       "      <td>N</td>\n",
       "    </tr>\n",
       "  </tbody>\n",
       "</table>\n",
       "<p>614 rows × 12 columns</p>\n",
       "</div>"
      ],
      "text/plain": [
       "     Gender Married Dependents     Education Self_Employed  ApplicantIncome  \\\n",
       "0      Male      No          0      Graduate            No             5849   \n",
       "1      Male     Yes          1      Graduate            No             4583   \n",
       "2      Male     Yes          0      Graduate           Yes             3000   \n",
       "3      Male     Yes          0  Not Graduate            No             2583   \n",
       "4      Male      No          0      Graduate            No             6000   \n",
       "..      ...     ...        ...           ...           ...              ...   \n",
       "609  Female      No          0      Graduate            No             2900   \n",
       "610    Male     Yes         3+      Graduate            No             4106   \n",
       "611    Male     Yes          1      Graduate            No             8072   \n",
       "612    Male     Yes          2      Graduate            No             7583   \n",
       "613  Female      No          0      Graduate           Yes             4583   \n",
       "\n",
       "     CoapplicantIncome  LoanAmount  Loan_Amount_Term  Credit_History  \\\n",
       "0                  0.0         NaN             360.0             1.0   \n",
       "1               1508.0       128.0             360.0             1.0   \n",
       "2                  0.0        66.0             360.0             1.0   \n",
       "3               2358.0       120.0             360.0             1.0   \n",
       "4                  0.0       141.0             360.0             1.0   \n",
       "..                 ...         ...               ...             ...   \n",
       "609                0.0        71.0             360.0             1.0   \n",
       "610                0.0        40.0             180.0             1.0   \n",
       "611              240.0       253.0             360.0             1.0   \n",
       "612                0.0       187.0             360.0             1.0   \n",
       "613                0.0       133.0             360.0             0.0   \n",
       "\n",
       "    Property_Area Loan_Status  \n",
       "0           Urban           Y  \n",
       "1           Rural           N  \n",
       "2           Urban           Y  \n",
       "3           Urban           Y  \n",
       "4           Urban           Y  \n",
       "..            ...         ...  \n",
       "609         Rural           Y  \n",
       "610         Rural           Y  \n",
       "611         Urban           Y  \n",
       "612         Urban           Y  \n",
       "613     Semiurban           N  \n",
       "\n",
       "[614 rows x 12 columns]"
      ]
     },
     "execution_count": 10,
     "metadata": {},
     "output_type": "execute_result"
    }
   ],
   "source": [
    "# display dataframe\n",
    "df"
   ]
  },
  {
   "cell_type": "code",
   "execution_count": 11,
   "metadata": {},
   "outputs": [
    {
     "data": {
      "text/html": [
       "<div>\n",
       "<style scoped>\n",
       "    .dataframe tbody tr th:only-of-type {\n",
       "        vertical-align: middle;\n",
       "    }\n",
       "\n",
       "    .dataframe tbody tr th {\n",
       "        vertical-align: top;\n",
       "    }\n",
       "\n",
       "    .dataframe thead th {\n",
       "        text-align: right;\n",
       "    }\n",
       "</style>\n",
       "<table border=\"1\" class=\"dataframe\">\n",
       "  <thead>\n",
       "    <tr style=\"text-align: right;\">\n",
       "      <th></th>\n",
       "      <th>ApplicantIncome</th>\n",
       "      <th>CoapplicantIncome</th>\n",
       "      <th>LoanAmount</th>\n",
       "      <th>Loan_Amount_Term</th>\n",
       "      <th>Credit_History</th>\n",
       "    </tr>\n",
       "  </thead>\n",
       "  <tbody>\n",
       "    <tr>\n",
       "      <th>count</th>\n",
       "      <td>614.000000</td>\n",
       "      <td>614.000000</td>\n",
       "      <td>592.000000</td>\n",
       "      <td>600.00000</td>\n",
       "      <td>564.000000</td>\n",
       "    </tr>\n",
       "    <tr>\n",
       "      <th>mean</th>\n",
       "      <td>5403.459283</td>\n",
       "      <td>1621.245798</td>\n",
       "      <td>146.412162</td>\n",
       "      <td>342.00000</td>\n",
       "      <td>0.842199</td>\n",
       "    </tr>\n",
       "    <tr>\n",
       "      <th>std</th>\n",
       "      <td>6109.041673</td>\n",
       "      <td>2926.248369</td>\n",
       "      <td>85.587325</td>\n",
       "      <td>65.12041</td>\n",
       "      <td>0.364878</td>\n",
       "    </tr>\n",
       "    <tr>\n",
       "      <th>min</th>\n",
       "      <td>150.000000</td>\n",
       "      <td>0.000000</td>\n",
       "      <td>9.000000</td>\n",
       "      <td>12.00000</td>\n",
       "      <td>0.000000</td>\n",
       "    </tr>\n",
       "    <tr>\n",
       "      <th>25%</th>\n",
       "      <td>2877.500000</td>\n",
       "      <td>0.000000</td>\n",
       "      <td>100.000000</td>\n",
       "      <td>360.00000</td>\n",
       "      <td>1.000000</td>\n",
       "    </tr>\n",
       "    <tr>\n",
       "      <th>50%</th>\n",
       "      <td>3812.500000</td>\n",
       "      <td>1188.500000</td>\n",
       "      <td>128.000000</td>\n",
       "      <td>360.00000</td>\n",
       "      <td>1.000000</td>\n",
       "    </tr>\n",
       "    <tr>\n",
       "      <th>75%</th>\n",
       "      <td>5795.000000</td>\n",
       "      <td>2297.250000</td>\n",
       "      <td>168.000000</td>\n",
       "      <td>360.00000</td>\n",
       "      <td>1.000000</td>\n",
       "    </tr>\n",
       "    <tr>\n",
       "      <th>max</th>\n",
       "      <td>81000.000000</td>\n",
       "      <td>41667.000000</td>\n",
       "      <td>700.000000</td>\n",
       "      <td>480.00000</td>\n",
       "      <td>1.000000</td>\n",
       "    </tr>\n",
       "  </tbody>\n",
       "</table>\n",
       "</div>"
      ],
      "text/plain": [
       "       ApplicantIncome  CoapplicantIncome  LoanAmount  Loan_Amount_Term  \\\n",
       "count       614.000000         614.000000  592.000000         600.00000   \n",
       "mean       5403.459283        1621.245798  146.412162         342.00000   \n",
       "std        6109.041673        2926.248369   85.587325          65.12041   \n",
       "min         150.000000           0.000000    9.000000          12.00000   \n",
       "25%        2877.500000           0.000000  100.000000         360.00000   \n",
       "50%        3812.500000        1188.500000  128.000000         360.00000   \n",
       "75%        5795.000000        2297.250000  168.000000         360.00000   \n",
       "max       81000.000000       41667.000000  700.000000         480.00000   \n",
       "\n",
       "       Credit_History  \n",
       "count      564.000000  \n",
       "mean         0.842199  \n",
       "std          0.364878  \n",
       "min          0.000000  \n",
       "25%          1.000000  \n",
       "50%          1.000000  \n",
       "75%          1.000000  \n",
       "max          1.000000  "
      ]
     },
     "execution_count": 11,
     "metadata": {},
     "output_type": "execute_result"
    }
   ],
   "source": [
    "df.describe()"
   ]
  },
  {
   "cell_type": "code",
   "execution_count": 12,
   "metadata": {},
   "outputs": [
    {
     "data": {
      "text/plain": [
       "134"
      ]
     },
     "execution_count": 12,
     "metadata": {},
     "output_type": "execute_result"
    }
   ],
   "source": [
    "# num missing values\n",
    "num_missing = df.isna().any(axis = 1).sum()\n",
    "num_missing"
   ]
  },
  {
   "cell_type": "code",
   "execution_count": 13,
   "metadata": {},
   "outputs": [
    {
     "data": {
      "text/plain": [
       "(614, 12)"
      ]
     },
     "execution_count": 13,
     "metadata": {},
     "output_type": "execute_result"
    }
   ],
   "source": [
    "df.shape"
   ]
  },
  {
   "cell_type": "code",
   "execution_count": 14,
   "metadata": {},
   "outputs": [
    {
     "data": {
      "text/plain": [
       "Gender                object\n",
       "Married               object\n",
       "Dependents            object\n",
       "Education             object\n",
       "Self_Employed         object\n",
       "ApplicantIncome        int64\n",
       "CoapplicantIncome    float64\n",
       "LoanAmount           float64\n",
       "Loan_Amount_Term     float64\n",
       "Credit_History       float64\n",
       "Property_Area         object\n",
       "Loan_Status           object\n",
       "dtype: object"
      ]
     },
     "execution_count": 14,
     "metadata": {},
     "output_type": "execute_result"
    }
   ],
   "source": [
    "df.dtypes"
   ]
  },
  {
   "cell_type": "markdown",
   "metadata": {},
   "source": [
    "Retrieving number of values contained in a column to see whether it can be converted as a binary value"
   ]
  },
  {
   "cell_type": "code",
   "execution_count": 15,
   "metadata": {},
   "outputs": [
    {
     "data": {
      "text/plain": [
       "Male      489\n",
       "Female    112\n",
       "Name: Gender, dtype: int64"
      ]
     },
     "execution_count": 15,
     "metadata": {},
     "output_type": "execute_result"
    }
   ],
   "source": [
    "df['Gender'].value_counts()"
   ]
  },
  {
   "cell_type": "code",
   "execution_count": 16,
   "metadata": {},
   "outputs": [
    {
     "data": {
      "text/plain": [
       "Yes    398\n",
       "No     213\n",
       "Name: Married, dtype: int64"
      ]
     },
     "execution_count": 16,
     "metadata": {},
     "output_type": "execute_result"
    }
   ],
   "source": [
    "df['Married'].value_counts()"
   ]
  },
  {
   "cell_type": "code",
   "execution_count": 17,
   "metadata": {},
   "outputs": [
    {
     "data": {
      "text/plain": [
       "Graduate        480\n",
       "Not Graduate    134\n",
       "Name: Education, dtype: int64"
      ]
     },
     "execution_count": 17,
     "metadata": {},
     "output_type": "execute_result"
    }
   ],
   "source": [
    "df['Education'].value_counts()"
   ]
  },
  {
   "cell_type": "code",
   "execution_count": 18,
   "metadata": {},
   "outputs": [
    {
     "data": {
      "text/plain": [
       "No     500\n",
       "Yes     82\n",
       "Name: Self_Employed, dtype: int64"
      ]
     },
     "execution_count": 18,
     "metadata": {},
     "output_type": "execute_result"
    }
   ],
   "source": [
    "df['Self_Employed'].value_counts()"
   ]
  },
  {
   "cell_type": "code",
   "execution_count": 19,
   "metadata": {},
   "outputs": [
    {
     "data": {
      "text/plain": [
       "1.0    475\n",
       "0.0     89\n",
       "Name: Credit_History, dtype: int64"
      ]
     },
     "execution_count": 19,
     "metadata": {},
     "output_type": "execute_result"
    }
   ],
   "source": [
    "df['Credit_History'].value_counts()"
   ]
  },
  {
   "cell_type": "code",
   "execution_count": 20,
   "metadata": {},
   "outputs": [
    {
     "data": {
      "text/plain": [
       "Semiurban    233\n",
       "Urban        202\n",
       "Rural        179\n",
       "Name: Property_Area, dtype: int64"
      ]
     },
     "execution_count": 20,
     "metadata": {},
     "output_type": "execute_result"
    }
   ],
   "source": [
    "df['Property_Area'].value_counts()"
   ]
  },
  {
   "cell_type": "code",
   "execution_count": 21,
   "metadata": {},
   "outputs": [
    {
     "data": {
      "text/plain": [
       "Y    422\n",
       "N    192\n",
       "Name: Loan_Status, dtype: int64"
      ]
     },
     "execution_count": 21,
     "metadata": {},
     "output_type": "execute_result"
    }
   ],
   "source": [
    "df['Loan_Status'].value_counts()"
   ]
  },
  {
   "cell_type": "markdown",
   "metadata": {},
   "source": [
    "Converting categorical values to binary values"
   ]
  },
  {
   "cell_type": "code",
   "execution_count": 22,
   "metadata": {},
   "outputs": [],
   "source": [
    "# how to get rid of decimal point?\n",
    "df['Gender'] = df['Gender'].map({'Male': 1, 'Female': 0})\n",
    "df['Married'] = df['Married'].map({'Yes': 1, 'No': 0})\n",
    "df['Education'] = df['Education'].map({'Graduate': 1, 'Not Graduate': 0})\n",
    "df['Self_Employed'] = df['Self_Employed'].map({'Yes': 1, 'No': 0})\n",
    "df['Loan_Status'] = df['Loan_Status'].map({'Y': 1, 'N': 0})"
   ]
  },
  {
   "cell_type": "code",
   "execution_count": 23,
   "metadata": {},
   "outputs": [],
   "source": [
    "df['Gender'].fillna(df['Gender'].mode()[0], inplace=True)\n",
    "df['Married'].fillna(df['Married'].mode()[0], inplace=True)\n",
    "df['Dependents'].fillna(df['Dependents'].mode()[0], inplace=True)\n",
    "df['Self_Employed'].fillna(df['Self_Employed'].mode()[0], inplace=True)\n",
    "df['Credit_History'].fillna(df['Credit_History'].mode()[0], inplace=True)\n",
    "df['LoanAmount'].fillna(df['LoanAmount'].mode()[0], inplace=True)\n",
    "df['Loan_Amount_Term'].fillna(df['Loan_Amount_Term'].mode()[0], inplace=True)"
   ]
  },
  {
   "cell_type": "code",
   "execution_count": 24,
   "metadata": {},
   "outputs": [
    {
     "data": {
      "text/plain": [
       "False"
      ]
     },
     "execution_count": 24,
     "metadata": {},
     "output_type": "execute_result"
    }
   ],
   "source": [
    "df.duplicated().values.any()"
   ]
  },
  {
   "cell_type": "code",
   "execution_count": 25,
   "metadata": {},
   "outputs": [
    {
     "data": {
      "text/plain": [
       "Gender               0\n",
       "Married              0\n",
       "Dependents           0\n",
       "Education            0\n",
       "Self_Employed        0\n",
       "ApplicantIncome      0\n",
       "CoapplicantIncome    0\n",
       "LoanAmount           0\n",
       "Loan_Amount_Term     0\n",
       "Credit_History       0\n",
       "Property_Area        0\n",
       "Loan_Status          0\n",
       "dtype: int64"
      ]
     },
     "execution_count": 25,
     "metadata": {},
     "output_type": "execute_result"
    }
   ],
   "source": [
    "df.isna().sum()"
   ]
  },
  {
   "cell_type": "code",
   "execution_count": 26,
   "metadata": {},
   "outputs": [
    {
     "data": {
      "text/plain": [
       "Index(['Gender', 'Married', 'Dependents', 'Education', 'Self_Employed',\n",
       "       'ApplicantIncome', 'CoapplicantIncome', 'LoanAmount',\n",
       "       'Loan_Amount_Term', 'Credit_History', 'Property_Area', 'Loan_Status'],\n",
       "      dtype='object')"
      ]
     },
     "execution_count": 26,
     "metadata": {},
     "output_type": "execute_result"
    }
   ],
   "source": [
    "df.isna().sum().index"
   ]
  },
  {
   "cell_type": "code",
   "execution_count": 27,
   "metadata": {},
   "outputs": [],
   "source": [
    "# deriving new features from given columns \n",
    "df['TotalIncome'] = df['ApplicantIncome'] + df['CoapplicantIncome']\n",
    "df['AverageIncomePP'] = (df['ApplicantIncome'] + df['CoapplicantIncome'])/2"
   ]
  },
  {
   "cell_type": "code",
   "execution_count": 28,
   "metadata": {},
   "outputs": [
    {
     "data": {
      "text/html": [
       "<div>\n",
       "<style scoped>\n",
       "    .dataframe tbody tr th:only-of-type {\n",
       "        vertical-align: middle;\n",
       "    }\n",
       "\n",
       "    .dataframe tbody tr th {\n",
       "        vertical-align: top;\n",
       "    }\n",
       "\n",
       "    .dataframe thead th {\n",
       "        text-align: right;\n",
       "    }\n",
       "</style>\n",
       "<table border=\"1\" class=\"dataframe\">\n",
       "  <thead>\n",
       "    <tr style=\"text-align: right;\">\n",
       "      <th></th>\n",
       "      <th>Gender</th>\n",
       "      <th>Married</th>\n",
       "      <th>Dependents</th>\n",
       "      <th>Education</th>\n",
       "      <th>Self_Employed</th>\n",
       "      <th>ApplicantIncome</th>\n",
       "      <th>CoapplicantIncome</th>\n",
       "      <th>LoanAmount</th>\n",
       "      <th>Loan_Amount_Term</th>\n",
       "      <th>Credit_History</th>\n",
       "      <th>Property_Area</th>\n",
       "      <th>Loan_Status</th>\n",
       "      <th>TotalIncome</th>\n",
       "      <th>AverageIncomePP</th>\n",
       "    </tr>\n",
       "  </thead>\n",
       "  <tbody>\n",
       "    <tr>\n",
       "      <th>0</th>\n",
       "      <td>1.0</td>\n",
       "      <td>0.0</td>\n",
       "      <td>0</td>\n",
       "      <td>1</td>\n",
       "      <td>0.0</td>\n",
       "      <td>5849</td>\n",
       "      <td>0.0</td>\n",
       "      <td>120.0</td>\n",
       "      <td>360.0</td>\n",
       "      <td>1.0</td>\n",
       "      <td>Urban</td>\n",
       "      <td>1</td>\n",
       "      <td>5849.0</td>\n",
       "      <td>2924.5</td>\n",
       "    </tr>\n",
       "    <tr>\n",
       "      <th>1</th>\n",
       "      <td>1.0</td>\n",
       "      <td>1.0</td>\n",
       "      <td>1</td>\n",
       "      <td>1</td>\n",
       "      <td>0.0</td>\n",
       "      <td>4583</td>\n",
       "      <td>1508.0</td>\n",
       "      <td>128.0</td>\n",
       "      <td>360.0</td>\n",
       "      <td>1.0</td>\n",
       "      <td>Rural</td>\n",
       "      <td>0</td>\n",
       "      <td>6091.0</td>\n",
       "      <td>3045.5</td>\n",
       "    </tr>\n",
       "    <tr>\n",
       "      <th>2</th>\n",
       "      <td>1.0</td>\n",
       "      <td>1.0</td>\n",
       "      <td>0</td>\n",
       "      <td>1</td>\n",
       "      <td>1.0</td>\n",
       "      <td>3000</td>\n",
       "      <td>0.0</td>\n",
       "      <td>66.0</td>\n",
       "      <td>360.0</td>\n",
       "      <td>1.0</td>\n",
       "      <td>Urban</td>\n",
       "      <td>1</td>\n",
       "      <td>3000.0</td>\n",
       "      <td>1500.0</td>\n",
       "    </tr>\n",
       "    <tr>\n",
       "      <th>3</th>\n",
       "      <td>1.0</td>\n",
       "      <td>1.0</td>\n",
       "      <td>0</td>\n",
       "      <td>0</td>\n",
       "      <td>0.0</td>\n",
       "      <td>2583</td>\n",
       "      <td>2358.0</td>\n",
       "      <td>120.0</td>\n",
       "      <td>360.0</td>\n",
       "      <td>1.0</td>\n",
       "      <td>Urban</td>\n",
       "      <td>1</td>\n",
       "      <td>4941.0</td>\n",
       "      <td>2470.5</td>\n",
       "    </tr>\n",
       "    <tr>\n",
       "      <th>4</th>\n",
       "      <td>1.0</td>\n",
       "      <td>0.0</td>\n",
       "      <td>0</td>\n",
       "      <td>1</td>\n",
       "      <td>0.0</td>\n",
       "      <td>6000</td>\n",
       "      <td>0.0</td>\n",
       "      <td>141.0</td>\n",
       "      <td>360.0</td>\n",
       "      <td>1.0</td>\n",
       "      <td>Urban</td>\n",
       "      <td>1</td>\n",
       "      <td>6000.0</td>\n",
       "      <td>3000.0</td>\n",
       "    </tr>\n",
       "    <tr>\n",
       "      <th>...</th>\n",
       "      <td>...</td>\n",
       "      <td>...</td>\n",
       "      <td>...</td>\n",
       "      <td>...</td>\n",
       "      <td>...</td>\n",
       "      <td>...</td>\n",
       "      <td>...</td>\n",
       "      <td>...</td>\n",
       "      <td>...</td>\n",
       "      <td>...</td>\n",
       "      <td>...</td>\n",
       "      <td>...</td>\n",
       "      <td>...</td>\n",
       "      <td>...</td>\n",
       "    </tr>\n",
       "    <tr>\n",
       "      <th>609</th>\n",
       "      <td>0.0</td>\n",
       "      <td>0.0</td>\n",
       "      <td>0</td>\n",
       "      <td>1</td>\n",
       "      <td>0.0</td>\n",
       "      <td>2900</td>\n",
       "      <td>0.0</td>\n",
       "      <td>71.0</td>\n",
       "      <td>360.0</td>\n",
       "      <td>1.0</td>\n",
       "      <td>Rural</td>\n",
       "      <td>1</td>\n",
       "      <td>2900.0</td>\n",
       "      <td>1450.0</td>\n",
       "    </tr>\n",
       "    <tr>\n",
       "      <th>610</th>\n",
       "      <td>1.0</td>\n",
       "      <td>1.0</td>\n",
       "      <td>3+</td>\n",
       "      <td>1</td>\n",
       "      <td>0.0</td>\n",
       "      <td>4106</td>\n",
       "      <td>0.0</td>\n",
       "      <td>40.0</td>\n",
       "      <td>180.0</td>\n",
       "      <td>1.0</td>\n",
       "      <td>Rural</td>\n",
       "      <td>1</td>\n",
       "      <td>4106.0</td>\n",
       "      <td>2053.0</td>\n",
       "    </tr>\n",
       "    <tr>\n",
       "      <th>611</th>\n",
       "      <td>1.0</td>\n",
       "      <td>1.0</td>\n",
       "      <td>1</td>\n",
       "      <td>1</td>\n",
       "      <td>0.0</td>\n",
       "      <td>8072</td>\n",
       "      <td>240.0</td>\n",
       "      <td>253.0</td>\n",
       "      <td>360.0</td>\n",
       "      <td>1.0</td>\n",
       "      <td>Urban</td>\n",
       "      <td>1</td>\n",
       "      <td>8312.0</td>\n",
       "      <td>4156.0</td>\n",
       "    </tr>\n",
       "    <tr>\n",
       "      <th>612</th>\n",
       "      <td>1.0</td>\n",
       "      <td>1.0</td>\n",
       "      <td>2</td>\n",
       "      <td>1</td>\n",
       "      <td>0.0</td>\n",
       "      <td>7583</td>\n",
       "      <td>0.0</td>\n",
       "      <td>187.0</td>\n",
       "      <td>360.0</td>\n",
       "      <td>1.0</td>\n",
       "      <td>Urban</td>\n",
       "      <td>1</td>\n",
       "      <td>7583.0</td>\n",
       "      <td>3791.5</td>\n",
       "    </tr>\n",
       "    <tr>\n",
       "      <th>613</th>\n",
       "      <td>0.0</td>\n",
       "      <td>0.0</td>\n",
       "      <td>0</td>\n",
       "      <td>1</td>\n",
       "      <td>1.0</td>\n",
       "      <td>4583</td>\n",
       "      <td>0.0</td>\n",
       "      <td>133.0</td>\n",
       "      <td>360.0</td>\n",
       "      <td>0.0</td>\n",
       "      <td>Semiurban</td>\n",
       "      <td>0</td>\n",
       "      <td>4583.0</td>\n",
       "      <td>2291.5</td>\n",
       "    </tr>\n",
       "  </tbody>\n",
       "</table>\n",
       "<p>614 rows × 14 columns</p>\n",
       "</div>"
      ],
      "text/plain": [
       "     Gender  Married Dependents  Education  Self_Employed  ApplicantIncome  \\\n",
       "0       1.0      0.0          0          1            0.0             5849   \n",
       "1       1.0      1.0          1          1            0.0             4583   \n",
       "2       1.0      1.0          0          1            1.0             3000   \n",
       "3       1.0      1.0          0          0            0.0             2583   \n",
       "4       1.0      0.0          0          1            0.0             6000   \n",
       "..      ...      ...        ...        ...            ...              ...   \n",
       "609     0.0      0.0          0          1            0.0             2900   \n",
       "610     1.0      1.0         3+          1            0.0             4106   \n",
       "611     1.0      1.0          1          1            0.0             8072   \n",
       "612     1.0      1.0          2          1            0.0             7583   \n",
       "613     0.0      0.0          0          1            1.0             4583   \n",
       "\n",
       "     CoapplicantIncome  LoanAmount  Loan_Amount_Term  Credit_History  \\\n",
       "0                  0.0       120.0             360.0             1.0   \n",
       "1               1508.0       128.0             360.0             1.0   \n",
       "2                  0.0        66.0             360.0             1.0   \n",
       "3               2358.0       120.0             360.0             1.0   \n",
       "4                  0.0       141.0             360.0             1.0   \n",
       "..                 ...         ...               ...             ...   \n",
       "609                0.0        71.0             360.0             1.0   \n",
       "610                0.0        40.0             180.0             1.0   \n",
       "611              240.0       253.0             360.0             1.0   \n",
       "612                0.0       187.0             360.0             1.0   \n",
       "613                0.0       133.0             360.0             0.0   \n",
       "\n",
       "    Property_Area  Loan_Status  TotalIncome  AverageIncomePP  \n",
       "0           Urban            1       5849.0           2924.5  \n",
       "1           Rural            0       6091.0           3045.5  \n",
       "2           Urban            1       3000.0           1500.0  \n",
       "3           Urban            1       4941.0           2470.5  \n",
       "4           Urban            1       6000.0           3000.0  \n",
       "..            ...          ...          ...              ...  \n",
       "609         Rural            1       2900.0           1450.0  \n",
       "610         Rural            1       4106.0           2053.0  \n",
       "611         Urban            1       8312.0           4156.0  \n",
       "612         Urban            1       7583.0           3791.5  \n",
       "613     Semiurban            0       4583.0           2291.5  \n",
       "\n",
       "[614 rows x 14 columns]"
      ]
     },
     "execution_count": 28,
     "metadata": {},
     "output_type": "execute_result"
    }
   ],
   "source": [
    "df"
   ]
  },
  {
   "cell_type": "code",
   "execution_count": 29,
   "metadata": {},
   "outputs": [
    {
     "data": {
      "text/plain": [
       "Gender               float64\n",
       "Married              float64\n",
       "Dependents            object\n",
       "Education              int64\n",
       "Self_Employed        float64\n",
       "ApplicantIncome        int64\n",
       "CoapplicantIncome    float64\n",
       "LoanAmount           float64\n",
       "Loan_Amount_Term     float64\n",
       "Credit_History       float64\n",
       "Property_Area         object\n",
       "Loan_Status            int64\n",
       "TotalIncome          float64\n",
       "AverageIncomePP      float64\n",
       "dtype: object"
      ]
     },
     "execution_count": 29,
     "metadata": {},
     "output_type": "execute_result"
    }
   ],
   "source": [
    "df.dtypes"
   ]
  },
  {
   "cell_type": "code",
   "execution_count": 30,
   "metadata": {},
   "outputs": [],
   "source": [
    "cat = df.select_dtypes(include = \"object\").columns"
   ]
  },
  {
   "cell_type": "code",
   "execution_count": 31,
   "metadata": {},
   "outputs": [],
   "source": [
    "# oversampling by random resampling with replacement from minority class to reduce class imbalance\n",
    "\n",
    "\n",
    "import random\n",
    "\n",
    "neg_rows = df[df['Loan_Status'] == 0].dropna()\n",
    "\n",
    "neg_rows.reset_index(inplace=True, drop=True)\n",
    "\n",
    "added_rows = 0\n",
    "\n",
    "while(added_rows < 230):\n",
    "    \n",
    "    pick_row = random.randrange(0, len(neg_rows))\n",
    "    \n",
    "    df = df.append(neg_rows.loc[pick_row].to_dict(), ignore_index=True)\n",
    "    \n",
    "    added_rows += 1\n"
   ]
  },
  {
   "cell_type": "code",
   "execution_count": 32,
   "metadata": {},
   "outputs": [
    {
     "data": {
      "text/plain": [
       "1    422\n",
       "0    422\n",
       "Name: Loan_Status, dtype: int64"
      ]
     },
     "execution_count": 32,
     "metadata": {},
     "output_type": "execute_result"
    }
   ],
   "source": [
    "df['Loan_Status'].value_counts()"
   ]
  },
  {
   "cell_type": "code",
   "execution_count": 33,
   "metadata": {},
   "outputs": [
    {
     "data": {
      "text/plain": [
       "\"\\n\\nremoved = 0\\n\\nwhile removed < 100:\\n    \\n    yes_loan_row = df[df['Loan_Status'] == 1].head(1).index[0]\\n\\n    df.drop(yes_loan_row, inplace=True)\\n    \\n    removed += 1\\n    \\n\""
      ]
     },
     "execution_count": 33,
     "metadata": {},
     "output_type": "execute_result"
    }
   ],
   "source": [
    "# trying undersampling\n",
    "\n",
    "'''\n",
    "\n",
    "removed = 0\n",
    "\n",
    "while removed < 100:\n",
    "    \n",
    "    yes_loan_row = df[df['Loan_Status'] == 1].head(1).index[0]\n",
    "\n",
    "    df.drop(yes_loan_row, inplace=True)\n",
    "    \n",
    "    removed += 1\n",
    "    \n",
    "'''"
   ]
  },
  {
   "cell_type": "code",
   "execution_count": 34,
   "metadata": {},
   "outputs": [
    {
     "name": "stdout",
     "output_type": "stream",
     "text": [
      "<class 'pandas.core.frame.DataFrame'>\n",
      "RangeIndex: 844 entries, 0 to 843\n",
      "Data columns (total 14 columns):\n",
      " #   Column             Non-Null Count  Dtype  \n",
      "---  ------             --------------  -----  \n",
      " 0   Gender             844 non-null    float64\n",
      " 1   Married            844 non-null    float64\n",
      " 2   Dependents         844 non-null    object \n",
      " 3   Education          844 non-null    int64  \n",
      " 4   Self_Employed      844 non-null    float64\n",
      " 5   ApplicantIncome    844 non-null    int64  \n",
      " 6   CoapplicantIncome  844 non-null    float64\n",
      " 7   LoanAmount         844 non-null    float64\n",
      " 8   Loan_Amount_Term   844 non-null    float64\n",
      " 9   Credit_History     844 non-null    float64\n",
      " 10  Property_Area      844 non-null    object \n",
      " 11  Loan_Status        844 non-null    int64  \n",
      " 12  TotalIncome        844 non-null    float64\n",
      " 13  AverageIncomePP    844 non-null    float64\n",
      "dtypes: float64(9), int64(3), object(2)\n",
      "memory usage: 92.4+ KB\n"
     ]
    }
   ],
   "source": [
    "df.info()\n",
    "df = df.reset_index(drop=True)"
   ]
  },
  {
   "cell_type": "code",
   "execution_count": 35,
   "metadata": {},
   "outputs": [
    {
     "data": {
      "text/plain": [
       "Gender               0\n",
       "Married              0\n",
       "Dependents           0\n",
       "Education            0\n",
       "Self_Employed        0\n",
       "ApplicantIncome      0\n",
       "CoapplicantIncome    0\n",
       "LoanAmount           0\n",
       "Loan_Amount_Term     0\n",
       "Credit_History       0\n",
       "Property_Area        0\n",
       "Loan_Status          0\n",
       "TotalIncome          0\n",
       "AverageIncomePP      0\n",
       "dtype: int64"
      ]
     },
     "execution_count": 35,
     "metadata": {},
     "output_type": "execute_result"
    }
   ],
   "source": [
    "df.fillna(method='bfill', inplace= True)\n",
    "df.isnull().sum()"
   ]
  },
  {
   "cell_type": "code",
   "execution_count": 36,
   "metadata": {},
   "outputs": [],
   "source": [
    "# sometimes values missing even after fill so drop those\n",
    "df.dropna(inplace=True)\n",
    "df.reset_index(inplace=True, drop=True)"
   ]
  },
  {
   "cell_type": "code",
   "execution_count": 37,
   "metadata": {},
   "outputs": [],
   "source": [
    "X = df.drop('Loan_Status',1)\n",
    "y = df.Loan_Status"
   ]
  },
  {
   "cell_type": "code",
   "execution_count": 38,
   "metadata": {},
   "outputs": [],
   "source": [
    "# train file open\n",
    "test_file = 'test.csv'\n",
    "tf = pd.read_csv(test_file, delimiter=',')"
   ]
  },
  {
   "cell_type": "code",
   "execution_count": 39,
   "metadata": {},
   "outputs": [],
   "source": [
    "df['Dependents'] = df['Dependents'].replace('3+', '3')"
   ]
  },
  {
   "cell_type": "code",
   "execution_count": 40,
   "metadata": {},
   "outputs": [
    {
     "name": "stdout",
     "output_type": "stream",
     "text": [
      "Gender\n"
     ]
    },
    {
     "data": {
      "text/plain": [
       "1.0    693\n",
       "0.0    151\n",
       "Name: Gender, dtype: int64"
      ]
     },
     "metadata": {},
     "output_type": "display_data"
    },
    {
     "name": "stdout",
     "output_type": "stream",
     "text": [
      "Married\n"
     ]
    },
    {
     "data": {
      "text/plain": [
       "1.0    539\n",
       "0.0    305\n",
       "Name: Married, dtype: int64"
      ]
     },
     "metadata": {},
     "output_type": "display_data"
    },
    {
     "name": "stdout",
     "output_type": "stream",
     "text": [
      "Dependents\n"
     ]
    },
    {
     "data": {
      "text/plain": [
       "0    490\n",
       "1    153\n",
       "2    131\n",
       "3     70\n",
       "Name: Dependents, dtype: int64"
      ]
     },
     "metadata": {},
     "output_type": "display_data"
    },
    {
     "name": "stdout",
     "output_type": "stream",
     "text": [
      "Education\n"
     ]
    },
    {
     "data": {
      "text/plain": [
       "1    642\n",
       "0    202\n",
       "Name: Education, dtype: int64"
      ]
     },
     "metadata": {},
     "output_type": "display_data"
    },
    {
     "name": "stdout",
     "output_type": "stream",
     "text": [
      "Self_Employed\n"
     ]
    },
    {
     "data": {
      "text/plain": [
       "0.0    737\n",
       "1.0    107\n",
       "Name: Self_Employed, dtype: int64"
      ]
     },
     "metadata": {},
     "output_type": "display_data"
    },
    {
     "name": "stdout",
     "output_type": "stream",
     "text": [
      "ApplicantIncome\n"
     ]
    },
    {
     "data": {
      "text/plain": [
       "4583    14\n",
       "4166    10\n",
       "2500    10\n",
       "3750     9\n",
       "2600     9\n",
       "        ..\n",
       "3315     1\n",
       "3812     1\n",
       "3463     1\n",
       "3155     1\n",
       "7583     1\n",
       "Name: ApplicantIncome, Length: 505, dtype: int64"
      ]
     },
     "metadata": {},
     "output_type": "display_data"
    },
    {
     "name": "stdout",
     "output_type": "stream",
     "text": [
      "CoapplicantIncome\n"
     ]
    },
    {
     "data": {
      "text/plain": [
       "0.0       390\n",
       "1666.0      8\n",
       "2083.0      6\n",
       "3000.0      6\n",
       "1667.0      5\n",
       "         ... \n",
       "5000.0      1\n",
       "5701.0      1\n",
       "4417.0      1\n",
       "1868.0      1\n",
       "240.0       1\n",
       "Name: CoapplicantIncome, Length: 287, dtype: int64"
      ]
     },
     "metadata": {},
     "output_type": "display_data"
    },
    {
     "name": "stdout",
     "output_type": "stream",
     "text": [
      "LoanAmount\n"
     ]
    },
    {
     "data": {
      "text/plain": [
       "120.0    63\n",
       "110.0    26\n",
       "100.0    21\n",
       "128.0    18\n",
       "160.0    16\n",
       "         ..\n",
       "207.0     1\n",
       "330.0     1\n",
       "304.0     1\n",
       "279.0     1\n",
       "253.0     1\n",
       "Name: LoanAmount, Length: 203, dtype: int64"
      ]
     },
     "metadata": {},
     "output_type": "display_data"
    },
    {
     "name": "stdout",
     "output_type": "stream",
     "text": [
      "Loan_Amount_Term\n"
     ]
    },
    {
     "data": {
      "text/plain": [
       "360.0    712\n",
       "180.0     64\n",
       "480.0     27\n",
       "300.0     19\n",
       "84.0       6\n",
       "240.0      5\n",
       "36.0       5\n",
       "120.0      3\n",
       "60.0       2\n",
       "12.0       1\n",
       "Name: Loan_Amount_Term, dtype: int64"
      ]
     },
     "metadata": {},
     "output_type": "display_data"
    },
    {
     "name": "stdout",
     "output_type": "stream",
     "text": [
      "Credit_History\n"
     ]
    },
    {
     "data": {
      "text/plain": [
       "1.0    648\n",
       "0.0    196\n",
       "Name: Credit_History, dtype: int64"
      ]
     },
     "metadata": {},
     "output_type": "display_data"
    },
    {
     "name": "stdout",
     "output_type": "stream",
     "text": [
      "Property_Area\n"
     ]
    },
    {
     "data": {
      "text/plain": [
       "Semiurban    301\n",
       "Urban        282\n",
       "Rural        261\n",
       "Name: Property_Area, dtype: int64"
      ]
     },
     "metadata": {},
     "output_type": "display_data"
    },
    {
     "name": "stdout",
     "output_type": "stream",
     "text": [
      "Loan_Status\n"
     ]
    },
    {
     "data": {
      "text/plain": [
       "1    422\n",
       "0    422\n",
       "Name: Loan_Status, dtype: int64"
      ]
     },
     "metadata": {},
     "output_type": "display_data"
    },
    {
     "name": "stdout",
     "output_type": "stream",
     "text": [
      "TotalIncome\n"
     ]
    },
    {
     "data": {
      "text/plain": [
       "4166.0     8\n",
       "4583.0     8\n",
       "10000.0    6\n",
       "6000.0     6\n",
       "3750.0     5\n",
       "          ..\n",
       "3716.0     1\n",
       "4545.0     1\n",
       "6400.0     1\n",
       "4758.0     1\n",
       "7583.0     1\n",
       "Name: TotalIncome, Length: 554, dtype: int64"
      ]
     },
     "metadata": {},
     "output_type": "display_data"
    },
    {
     "name": "stdout",
     "output_type": "stream",
     "text": [
      "AverageIncomePP\n"
     ]
    },
    {
     "data": {
      "text/plain": [
       "2083.0    8\n",
       "2291.5    8\n",
       "5000.0    6\n",
       "3000.0    6\n",
       "1875.0    5\n",
       "         ..\n",
       "1858.0    1\n",
       "2272.5    1\n",
       "3200.0    1\n",
       "2379.0    1\n",
       "3791.5    1\n",
       "Name: AverageIncomePP, Length: 554, dtype: int64"
      ]
     },
     "metadata": {},
     "output_type": "display_data"
    }
   ],
   "source": [
    "for col in df.columns:\n",
    "    print(col)\n",
    "    display(df[col].value_counts())"
   ]
  },
  {
   "cell_type": "code",
   "execution_count": 41,
   "metadata": {},
   "outputs": [],
   "source": [
    "# LoanAmount, Loan_Amount_Term, TotalIncome"
   ]
  },
  {
   "cell_type": "code",
   "execution_count": 42,
   "metadata": {},
   "outputs": [
    {
     "data": {
      "text/plain": [
       "Text(0, 0.5, 'LoanAmount')"
      ]
     },
     "execution_count": 42,
     "metadata": {},
     "output_type": "execute_result"
    },
    {
     "data": {
      "image/png": "[encoded data removed]",
      "text/plain": [
       "<Figure size 720x576 with 1 Axes>"
      ]
     },
     "metadata": {
      "needs_background": "light"
     },
     "output_type": "display_data"
    }
   ],
   "source": [
    "plt.scatter(df['TotalIncome'], df['LoanAmount']);\n",
    "plt.xlabel('TotalIncome')\n",
    "plt.ylabel('LoanAmount')"
   ]
  },
  {
   "cell_type": "code",
   "execution_count": 43,
   "metadata": {},
   "outputs": [],
   "source": [
    "X = pd.get_dummies(X)\n",
    "df=pd.get_dummies(df)\n",
    "#tf=pd.get_dummies(tf)"
   ]
  },
  {
   "cell_type": "code",
   "execution_count": 48,
   "metadata": {},
   "outputs": [
    {
     "name": "stdout",
     "output_type": "stream",
     "text": [
      "\n",
      "[[1. 0.]\n",
      " [1. 0.]\n",
      " [1. 0.]\n",
      " ...\n",
      " [1. 1.]\n",
      " [1. 0.]\n",
      " [0. 1.]]\n",
      "Original number of features: (844, 18)\n",
      "Reduced number of features: (844, 2)\n"
     ]
    }
   ],
   "source": [
    "from sklearn.feature_selection import SelectKBest\n",
    "from sklearn.feature_selection import f_classif\n",
    "\n",
    "# 5, 10 13 \n",
    "\n",
    "# Selecting Features With Best ANOVA F-Values\n",
    "# Creating an SelectKBest object to select features with two best ANOVA F-Values\n",
    "fvalue_Best = SelectKBest(f_classif, k=2)\n",
    "# Applying the SelectKBest object to the features and target\n",
    "X_kbest = fvalue_Best.fit_transform(X, y)\n",
    "print(); print(X_kbest)\n",
    "\n",
    "# Showing results\n",
    "print('Original number of features:', X.shape)\n",
    "print('Reduced number of features:', X_kbest.shape)"
   ]
  },
  {
   "cell_type": "code",
   "execution_count": 49,
   "metadata": {},
   "outputs": [
    {
     "data": {
      "text/plain": [
       "Index(['Credit_History', 'Property_Area_Semiurban'], dtype='object')"
      ]
     },
     "execution_count": 49,
     "metadata": {},
     "output_type": "execute_result"
    }
   ],
   "source": [
    "chosen_cols = X.columns[fvalue_Best.get_support()]\n",
    "chosen_cols"
   ]
  },
  {
   "cell_type": "code",
   "execution_count": 196,
   "metadata": {},
   "outputs": [
    {
     "data": {
      "text/plain": [
       "Index(['Gender', 'Married', 'Education', 'Self_Employed', 'LoanAmount',\n",
       "       'Loan_Amount_Term', 'Credit_History', 'TotalIncome', 'AverageIncomePP',\n",
       "       'Dependents_0', 'Dependents_1', 'Dependents_2', 'Dependents_3+',\n",
       "       'Property_Area_Rural', 'Property_Area_Semiurban',\n",
       "       'Property_Area_Urban'],\n",
       "      dtype='object')"
      ]
     },
     "execution_count": 196,
     "metadata": {},
     "output_type": "execute_result"
    }
   ],
   "source": [
    "X.columns"
   ]
  },
  {
   "cell_type": "code",
   "execution_count": 197,
   "metadata": {},
   "outputs": [],
   "source": [
    "X = X[chosen_cols]"
   ]
  },
  {
   "cell_type": "code",
   "execution_count": 198,
   "metadata": {},
   "outputs": [],
   "source": [
    "corr_df = df.drop('Loan_Status', axis=1)\n",
    "\n",
    "corr_df['Loan_Status'] = y\n"
   ]
  },
  {
   "cell_type": "code",
   "execution_count": 199,
   "metadata": {},
   "outputs": [
    {
     "data": {
      "image/png": "[encoded data removed]",
      "text/plain": [
       "<Figure size 1800x1080 with 2 Axes>"
      ]
     },
     "metadata": {
      "needs_background": "light"
     },
     "output_type": "display_data"
    },
    {
     "name": "stdout",
     "output_type": "stream",
     "text": [
      "                           Gender   Married  Education  Self_Employed  \\\n",
      "Gender                   1.000000  0.378985  -0.047049      -0.033870   \n",
      "Married                  0.378985  1.000000  -0.014028      -0.034937   \n",
      "Education               -0.047049 -0.014028   1.000000       0.007259   \n",
      "Self_Employed           -0.033870 -0.034937   0.007259       1.000000   \n",
      "LoanAmount               0.113301  0.161793   0.193567       0.075453   \n",
      "Loan_Amount_Term        -0.040501 -0.081940   0.096034      -0.032357   \n",
      "Credit_History           0.019423  0.017168   0.116031       0.008532   \n",
      "TotalIncome              0.094765  0.096669   0.191560       0.077242   \n",
      "AverageIncomePP          0.094765  0.096669   0.191560       0.077242   \n",
      "Dependents_0            -0.121800 -0.339499   0.042467      -0.105350   \n",
      "Dependents_1            -0.019143  0.096250   0.019217       0.129157   \n",
      "Dependents_2             0.120433  0.245915  -0.017388       0.041890   \n",
      "Dependents_3             0.082471  0.146836  -0.074376      -0.039820   \n",
      "Property_Area_Rural      0.097090  0.043168  -0.073942       0.021383   \n",
      "Property_Area_Semiurban -0.071565  0.001981   0.056653       0.014384   \n",
      "Property_Area_Urban     -0.020646 -0.043687   0.013529      -0.035323   \n",
      "Loan_Status              0.012271  0.091255   0.115852       0.021452   \n",
      "\n",
      "                         LoanAmount  Loan_Amount_Term  Credit_History  \\\n",
      "Gender                     0.113301         -0.040501        0.019423   \n",
      "Married                    0.161793         -0.081940        0.017168   \n",
      "Education                  0.193567          0.096034        0.116031   \n",
      "Self_Employed              0.075453         -0.032357        0.008532   \n",
      "LoanAmount                 1.000000          0.043112        0.013155   \n",
      "Loan_Amount_Term           0.043112          1.000000       -0.040677   \n",
      "Credit_History             0.013155         -0.040677        1.000000   \n",
      "TotalIncome                0.638257         -0.060752        0.016511   \n",
      "AverageIncomePP            0.638257         -0.060752        0.016511   \n",
      "Dependents_0              -0.149279          0.138056       -0.033538   \n",
      "Dependents_1               0.082578         -0.097776        0.065804   \n",
      "Dependents_2              -0.002899         -0.004967        0.002581   \n",
      "Dependents_3               0.146752         -0.099177       -0.031264   \n",
      "Property_Area_Rural        0.071733          0.050533       -0.000067   \n",
      "Property_Area_Semiurban    0.004791          0.021076        0.044300   \n",
      "Property_Area_Urban       -0.074126         -0.070290       -0.045162   \n",
      "Loan_Status               -0.056580         -0.003365        0.485915   \n",
      "\n",
      "                         TotalIncome  AverageIncomePP  Dependents_0  \\\n",
      "Gender                      0.094765         0.094765     -0.121800   \n",
      "Married                     0.096669         0.096669     -0.339499   \n",
      "Education                   0.191560         0.191560      0.042467   \n",
      "Self_Employed               0.077242         0.077242     -0.105350   \n",
      "LoanAmount                  0.638257         0.638257     -0.149279   \n",
      "Loan_Amount_Term           -0.060752        -0.060752      0.138056   \n",
      "Credit_History              0.016511         0.016511     -0.033538   \n",
      "TotalIncome                 1.000000         1.000000     -0.108213   \n",
      "AverageIncomePP             1.000000         1.000000     -0.108213   \n",
      "Dependents_0               -0.108213        -0.108213      1.000000   \n",
      "Dependents_1                0.056590         0.056590     -0.538078   \n",
      "Dependents_2               -0.052369        -0.052369     -0.492855   \n",
      "Dependents_3                0.171043         0.171043     -0.385945   \n",
      "Property_Area_Rural         0.038206         0.038206      0.023367   \n",
      "Property_Area_Semiurban    -0.004434        -0.004434     -0.007749   \n",
      "Property_Area_Urban        -0.032349        -0.032349     -0.014642   \n",
      "Loan_Status                -0.045013        -0.045013      0.009604   \n",
      "\n",
      "                         Dependents_1  Dependents_2  Dependents_3  \\\n",
      "Gender                      -0.019143      0.120433      0.082471   \n",
      "Married                      0.096250      0.245915      0.146836   \n",
      "Education                    0.019217     -0.017388     -0.074376   \n",
      "Self_Employed                0.129157      0.041890     -0.039820   \n",
      "LoanAmount                   0.082578     -0.002899      0.146752   \n",
      "Loan_Amount_Term            -0.097776     -0.004967     -0.099177   \n",
      "Credit_History               0.065804      0.002581     -0.031264   \n",
      "TotalIncome                  0.056590     -0.052369      0.171043   \n",
      "AverageIncomePP              0.056590     -0.052369      0.171043   \n",
      "Dependents_0                -0.538078     -0.492855     -0.385945   \n",
      "Dependents_1                 1.000000     -0.191590     -0.150030   \n",
      "Dependents_2                -0.191590      1.000000     -0.137421   \n",
      "Dependents_3                -0.150030     -0.137421      1.000000   \n",
      "Property_Area_Rural         -0.069192      0.027900      0.015860   \n",
      "Property_Area_Semiurban      0.040270     -0.058093      0.031384   \n",
      "Property_Area_Urban          0.025670      0.032380     -0.047348   \n",
      "Loan_Status                 -0.043855      0.086442     -0.064008   \n",
      "\n",
      "                         Property_Area_Rural  Property_Area_Semiurban  \\\n",
      "Gender                              0.097090                -0.071565   \n",
      "Married                             0.043168                 0.001981   \n",
      "Education                          -0.073942                 0.056653   \n",
      "Self_Employed                       0.021383                 0.014384   \n",
      "LoanAmount                          0.071733                 0.004791   \n",
      "Loan_Amount_Term                    0.050533                 0.021076   \n",
      "Credit_History                     -0.000067                 0.044300   \n",
      "TotalIncome                         0.038206                -0.004434   \n",
      "AverageIncomePP                     0.038206                -0.004434   \n",
      "Dependents_0                        0.023367                -0.007749   \n",
      "Dependents_1                       -0.069192                 0.040270   \n",
      "Dependents_2                        0.027900                -0.058093   \n",
      "Dependents_3                        0.015860                 0.031384   \n",
      "Property_Area_Rural                 1.000000                -0.494149   \n",
      "Property_Area_Semiurban            -0.494149                 1.000000   \n",
      "Property_Area_Urban                -0.460687                -0.543979   \n",
      "Loan_Status                        -0.075342                 0.115439   \n",
      "\n",
      "                         Property_Area_Urban  Loan_Status  \n",
      "Gender                             -0.020646     0.012271  \n",
      "Married                            -0.043687     0.091255  \n",
      "Education                           0.013529     0.115852  \n",
      "Self_Employed                      -0.035323     0.021452  \n",
      "LoanAmount                         -0.074126    -0.056580  \n",
      "Loan_Amount_Term                   -0.070290    -0.003365  \n",
      "Credit_History                     -0.045162     0.485915  \n",
      "TotalIncome                        -0.032349    -0.045013  \n",
      "AverageIncomePP                    -0.032349    -0.045013  \n",
      "Dependents_0                       -0.014642     0.009604  \n",
      "Dependents_1                        0.025670    -0.043855  \n",
      "Dependents_2                        0.032380     0.086442  \n",
      "Dependents_3                       -0.047348    -0.064008  \n",
      "Property_Area_Rural                -0.460687    -0.075342  \n",
      "Property_Area_Semiurban            -0.543979     0.115439  \n",
      "Property_Area_Urban                 1.000000    -0.045136  \n",
      "Loan_Status                        -0.045136     1.000000  \n"
     ]
    }
   ],
   "source": [
    "corrmat = corr_df.corr()\n",
    "mask = np.triu(np.ones_like(corrmat, dtype=np.bool)) \n",
    "fig = plt.subplots(figsize=(25, 15))\n",
    "sns.heatmap(corrmat, annot=True,fmt='.2f',mask=mask)\n",
    "plt.show()\n",
    "print(corrmat)"
   ]
  },
  {
   "cell_type": "code",
   "execution_count": 200,
   "metadata": {},
   "outputs": [],
   "source": [
    "# pd.plotting.scatter_matrix(df, figsize =(50,50))"
   ]
  },
  {
   "cell_type": "code",
   "execution_count": 201,
   "metadata": {},
   "outputs": [],
   "source": [
    "X_train, X_test, y_train, y_test = train_test_split(X,y, test_size=0.15, shuffle=True)"
   ]
  },
  {
   "cell_type": "code",
   "execution_count": 202,
   "metadata": {},
   "outputs": [
    {
     "data": {
      "text/plain": [
       "1    362\n",
       "0    355\n",
       "Name: Loan_Status, dtype: int64"
      ]
     },
     "execution_count": 202,
     "metadata": {},
     "output_type": "execute_result"
    }
   ],
   "source": [
    "y_train.value_counts()"
   ]
  },
  {
   "cell_type": "markdown",
   "metadata": {},
   "source": [
    "<h4> Decision tree classifier </h4>"
   ]
  },
  {
   "cell_type": "code",
   "execution_count": 203,
   "metadata": {},
   "outputs": [
    {
     "name": "stdout",
     "output_type": "stream",
     "text": [
      "0.8543181177796562\n"
     ]
    }
   ],
   "source": [
    "# yes cross validation, no hyper parameter tuning\n",
    "\n",
    "dt_clf = DecisionTreeClassifier(random_state=0)\n",
    "\n",
    "scores = cross_val_score(dt_clf, X, y, cv=5, scoring=\"accuracy\")\n",
    "\n",
    "print(scores.mean())\n"
   ]
  },
  {
   "cell_type": "code",
   "execution_count": 204,
   "metadata": {},
   "outputs": [
    {
     "name": "stdout",
     "output_type": "stream",
     "text": [
      "0.8661417322834646\n"
     ]
    }
   ],
   "source": [
    "# no cross validation, no hyper parameter tuning\n",
    "\n",
    "from sklearn import metrics\n",
    "\n",
    "dt_clf = DecisionTreeClassifier(random_state=0)\n",
    "\n",
    "dt_clf.fit(X_train, y_train)\n",
    "\n",
    "y_pred = dt_clf.predict(X_test)\n",
    "\n",
    "print(accuracy_score(y_test, y_pred))\n"
   ]
  },
  {
   "cell_type": "code",
   "execution_count": 205,
   "metadata": {},
   "outputs": [
    {
     "name": "stdout",
     "output_type": "stream",
     "text": [
      "AUC score 0.8626865671641791\n"
     ]
    }
   ],
   "source": [
    "#define metrics\n",
    "y_pred_proba = dt_clf.predict_proba(X_test)[::,1]\n",
    "fpr, tpr, _ = metrics.roc_curve(y_test,  y_pred_proba)\n",
    "\n",
    "nhp_fpr, nhp_tpr = fpr, tpr,\n",
    "\n",
    "auc = metrics.roc_auc_score(y_test, y_pred_proba)\n",
    "print('AUC score',auc)"
   ]
  },
  {
   "cell_type": "code",
   "execution_count": 206,
   "metadata": {},
   "outputs": [
    {
     "name": "stdout",
     "output_type": "stream",
     "text": [
      "Optimal hyperparameter combination: {'max_depth': 70, 'min_samples_leaf': 1, 'min_samples_split': 2}\n",
      "\n",
      "Mean cross-validated training accuracy score: 0.8103535353535353\n"
     ]
    },
    {
     "data": {
      "text/plain": [
       "\"\\nUsing grid search\\nOptimal hyperparameter combination: {'max_depth': 70, 'min_samples_leaf': 1, 'min_samples_split': 4}\\n\\nMean cross-validated training accuracy score: 0.8158605283605282\\nTest accuracy: 0.89\\n\""
      ]
     },
     "execution_count": 206,
     "metadata": {},
     "output_type": "execute_result"
    }
   ],
   "source": [
    "# tuning parameters\n",
    "\n",
    "# Defining 3-dimensional hyperparameter space as a Python dictionary\n",
    "max_depth = [int(x) for x in np.linspace(10, 610, num = 11)]\n",
    "max_depth.append(None)\n",
    "\n",
    "hyperparameter_space = {'max_depth': max_depth, # [2,3,4,6,8,10,12,15,20], \n",
    "                        'min_samples_leaf':[1,2,4,6,8,10,20,30],\n",
    "                        'min_samples_split':[1,2,3,4,5,6,8,10]}\n",
    "\n",
    "from sklearn.model_selection import RandomizedSearchCV\n",
    "\n",
    "dt_clf = DecisionTreeClassifier(random_state=0)\n",
    "\n",
    "'''\n",
    "rs = RandomizedSearchCV(dt_clf, param_distributions=hyperparameter_space,\n",
    "                        n_iter=400, scoring=\"accuracy\", random_state=0,\n",
    "                        n_jobs=-1, cv=5, return_train_score=True)\n",
    "'''\n",
    "\n",
    "from sklearn.model_selection import GridSearchCV\n",
    "rs = GridSearchCV(dt_clf, param_grid=hyperparameter_space, \n",
    "                  scoring=\"accuracy\",\n",
    "                  n_jobs=-1, cv=5, return_train_score=True)\n",
    "\n",
    "\n",
    "\n",
    "rs.fit(X_train, y_train)\n",
    "print(\"Optimal hyperparameter combination:\", rs.best_params_)\n",
    "print()\n",
    "print(\"Mean cross-validated training accuracy score:\",\n",
    "      rs.best_score_)\n",
    "\n",
    "'''\n",
    "Using grid search\n",
    "Optimal hyperparameter combination: {'max_depth': 70, 'min_samples_leaf': 1, 'min_samples_split': 4}\n",
    "\n",
    "Mean cross-validated training accuracy score: 0.8158605283605282\n",
    "Test accuracy: 0.89\n",
    "'''\n"
   ]
  },
  {
   "cell_type": "code",
   "execution_count": 207,
   "metadata": {},
   "outputs": [
    {
     "name": "stdout",
     "output_type": "stream",
     "text": [
      "Test accuracy: 0.87\n",
      "[[62  5]\n",
      " [12 48]]\n"
     ]
    },
    {
     "data": {
      "image/png": "[encoded data removed]",
      "text/plain": [
       "<Figure size 720x576 with 1 Axes>"
      ]
     },
     "metadata": {
      "needs_background": "light"
     },
     "output_type": "display_data"
    },
    {
     "name": "stdout",
     "output_type": "stream",
     "text": [
      "AUC score 0.8626865671641791\n"
     ]
    }
   ],
   "source": [
    "# no cross validation, yes hyper parameter tuning\n",
    "\n",
    "rs.best_estimator_.fit(X_train, y_train)\n",
    "y_pred = rs.best_estimator_.predict(X_test) # Predictions\n",
    "y_true = y_test # True values\n",
    "\n",
    "print(\"Test accuracy:\", np.round(accuracy_score(y_true, y_pred), 2))\n",
    "\n",
    "\n",
    "print(metrics.confusion_matrix(y_test, y_pred))\n",
    "\n",
    "#define metrics\n",
    "y_pred_proba = rs.best_estimator_.predict_proba(X_test)[::,1]\n",
    "fpr, tpr, _ = metrics.roc_curve(y_test,  y_pred_proba)\n",
    "\n",
    "dt_fpr, dt_tpr = fpr,tpr\n",
    "\n",
    "#create ROC curve\n",
    "plt.plot(nhp_fpr, nhp_tpr, label='Before tuning')\n",
    "plt.plot(fpr,tpr, label='After tuning')\n",
    "plt.ylabel('True Positive Rate')\n",
    "plt.xlabel('False Positive Rate')\n",
    "plt.legend(loc='best')\n",
    "plt.title('ROC curve')\n",
    "plt.show()\n",
    "\n",
    "\n",
    "auc = metrics.roc_auc_score(y_test, y_pred_proba)\n",
    "print('AUC score',auc)"
   ]
  },
  {
   "cell_type": "code",
   "execution_count": 208,
   "metadata": {},
   "outputs": [
    {
     "name": "stdout",
     "output_type": "stream",
     "text": [
      "Train scores:\n",
      "1.0\n",
      "Test scores:\n",
      "0.8543181177796562\n"
     ]
    }
   ],
   "source": [
    "# yes cross validation, yes hyper parameter tuning\n",
    "\n",
    "from  sklearn import model_selection\n",
    "\n",
    "params= rs.best_params_\n",
    "\n",
    "dt_clf = DecisionTreeClassifier(random_state=0, min_samples_split=params['min_samples_split'], min_samples_leaf=params['min_samples_leaf'], max_depth=params['max_depth'])\n",
    "\n",
    "scores = model_selection.cross_validate(dt_clf, X, y, cv=5, scoring=\"accuracy\",  return_train_score=True)\n",
    "\n",
    "print('Train scores:')\n",
    "print(scores['train_score'].mean())\n",
    "print('Test scores:')\n",
    "print(scores['test_score'].mean())\n"
   ]
  },
  {
   "cell_type": "code",
   "execution_count": 222,
   "metadata": {},
   "outputs": [],
   "source": [
    "# sns.distplot(scores)"
   ]
  },
  {
   "cell_type": "markdown",
   "metadata": {},
   "source": [
    "X = df.iloc[:, 7].values.reshape(-1, 1)  # values converts it into a numpy array\n",
    "Y = df.iloc[:, 9].values.reshape(-1, 1)  # -1 means that calculate the dimension of rows, but have 1 column\n",
    "model.fit(X, Y)  # perform linear regression\n",
    "Y_pred = model.predict(X)  # make predictions"
   ]
  },
  {
   "cell_type": "code",
   "execution_count": 209,
   "metadata": {},
   "outputs": [
    {
     "data": {
      "text/plain": [
       "'\\nfrom sklearn.model_selection import train_test_split\\n\\nx_train, x_cv, y_train, t_test = train_test_split(X,y, test_size=0.3)\\n\\nmodel.fit(x_train, y_train)\\npred_cv = model.predict(x_cv)\\naccuracy_score(t_test,pred_cv)\\n'"
      ]
     },
     "execution_count": 209,
     "metadata": {},
     "output_type": "execute_result"
    }
   ],
   "source": [
    "# when not using cross validation\n",
    "\n",
    "'''\n",
    "from sklearn.model_selection import train_test_split\n",
    "\n",
    "x_train, x_cv, y_train, t_test = train_test_split(X,y, test_size=0.3)\n",
    "\n",
    "model.fit(x_train, y_train)\n",
    "pred_cv = model.predict(x_cv)\n",
    "accuracy_score(t_test,pred_cv)\n",
    "'''"
   ]
  },
  {
   "cell_type": "markdown",
   "metadata": {},
   "source": [
    "<h4> Base classifier </h4>"
   ]
  },
  {
   "cell_type": "code",
   "execution_count": 210,
   "metadata": {},
   "outputs": [
    {
     "name": "stdout",
     "output_type": "stream",
     "text": [
      "0.4994082840236686\n"
     ]
    }
   ],
   "source": [
    "# baseline classifier\n",
    "\n",
    "from sklearn.base import BaseEstimator\n",
    "\n",
    "class MajorityBaseClassifier(BaseEstimator):\n",
    "    def fit(self, X, y=None):\n",
    "        pass\n",
    "    def predict(self, X):\n",
    "        return np.full(len(X), 1)\n",
    "    \n",
    "baseline_model = MajorityBaseClassifier()\n",
    "scores = cross_val_score(baseline_model, X, y, cv=5, scoring=\"accuracy\")\n",
    "\n",
    "print(scores.mean())\n",
    "\n"
   ]
  },
  {
   "cell_type": "code",
   "execution_count": 211,
   "metadata": {},
   "outputs": [
    {
     "data": {
      "text/plain": [
       "<AxesSubplot:ylabel='Density'>"
      ]
     },
     "execution_count": 211,
     "metadata": {},
     "output_type": "execute_result"
    },
    {
     "data": {
      "image/png": "[encoded data removed]",
      "text/plain": [
       "<Figure size 720x576 with 1 Axes>"
      ]
     },
     "metadata": {
      "needs_background": "light"
     },
     "output_type": "display_data"
    }
   ],
   "source": [
    "sns.distplot(scores)"
   ]
  },
  {
   "cell_type": "code",
   "execution_count": 212,
   "metadata": {},
   "outputs": [],
   "source": [
    "n_estimators = sp_expon(scale=100)\n",
    "max_depth = sp_randint(1, 40)"
   ]
  },
  {
   "cell_type": "markdown",
   "metadata": {},
   "source": [
    "<h4> Random Forest </h4>"
   ]
  },
  {
   "cell_type": "code",
   "execution_count": 213,
   "metadata": {},
   "outputs": [
    {
     "name": "stdout",
     "output_type": "stream",
     "text": [
      "0.8874964778810932\n"
     ]
    }
   ],
   "source": [
    "# yes cross validation, no hyper parameter tuning\n",
    "\n",
    "rdf_clf = RandomForestClassifier()\n",
    "\n",
    "scores = cross_val_score(rdf_clf, X, y, cv=5, scoring=\"accuracy\")\n",
    "\n",
    "print(scores.mean())"
   ]
  },
  {
   "cell_type": "code",
   "execution_count": 214,
   "metadata": {},
   "outputs": [
    {
     "name": "stdout",
     "output_type": "stream",
     "text": [
      "0.8661417322834646\n"
     ]
    }
   ],
   "source": [
    "# no cross validation, no hyper parameter tuning\n",
    "\n",
    "rdf_clf = RandomForestClassifier()\n",
    "\n",
    "rdf_clf.fit(X_train, y_train)\n",
    "\n",
    "y_pred = rdf_clf.predict(X_test)\n",
    "\n",
    "print(accuracy_score(y_test, y_pred))"
   ]
  },
  {
   "cell_type": "code",
   "execution_count": 215,
   "metadata": {},
   "outputs": [
    {
     "name": "stdout",
     "output_type": "stream",
     "text": [
      "AUC score 0.9414179104477612\n"
     ]
    }
   ],
   "source": [
    "#define metrics\n",
    "y_pred_proba = rdf_clf.predict_proba(X_test)[::,1]\n",
    "fpr, tpr, _ = metrics.roc_curve(y_test,  y_pred_proba)\n",
    "\n",
    "nhp_fpr, nhp_tpr = fpr, tpr\n",
    "\n",
    "auc = metrics.roc_auc_score(y_test, y_pred_proba)\n",
    "print('AUC score',auc)"
   ]
  },
  {
   "cell_type": "code",
   "execution_count": 216,
   "metadata": {},
   "outputs": [
    {
     "data": {
      "text/plain": [
       "'\\n\\n# Number of trees in random forest\\nn_estimators = [int(x) for x in np.linspace(start = 200, stop = 5000, num = 30)]\\n# Number of features to consider at every split\\nmax_features = [\\'auto\\', \\'sqrt\\']\\n# Maximum number of levels in tree\\nmax_depth = [int(x) for x in np.linspace(10, 110, num = 11)]\\nmax_depth.append(None)\\n# Minimum number of samples required to split a node\\nmin_samples_split = [2, 5, 10]\\n# Minimum number of samples required at each leaf node\\nmin_samples_leaf = [1, 2, 4]\\n# Method of selecting samples for training each tree\\nbootstrap = [True, False]\\n# Create the random grid\\nhyperparameter_space = {\\'n_estimators\\': n_estimators,\\n               \\'max_features\\': max_features,\\n               \\'max_depth\\': max_depth,\\n               \\'min_samples_split\\': [1,2,3,4,5,6,8,10],\\n               \\'min_samples_leaf\\': [1,2,4,6,8,10,20,30],\\n               \\'bootstrap\\': bootstrap}\\n\\n\\nrdf_clf = RandomForestClassifier()\\n\\nrs = RandomizedSearchCV(rdf_clf, param_distributions=hyperparameter_space,\\n                        n_iter=30, scoring=\"accuracy\", random_state=0,  # 30 iter \\n                        n_jobs=-1, cv=5, return_train_score=True)\\n\\nfrom sklearn.model_selection import train_test_split\\n\\nrs.fit(X_train, y_train)\\nprint(\"Optimal hyperparameter combination:\", rs.best_params_)\\nprint()\\nprint(\"Mean cross-validated training accuracy score:\",\\n      rs.best_score_)\\n\\n# no cross validation, yes hyper parameter tuning\\n\\nrs.best_estimator_.fit(X_train, y_train)\\ny_pred = rs.best_estimator_.predict(X_test) # Predictions\\ny_true = y_test # True values\\n\\nprint(\"Test accuracy:\", np.round(accuracy_score(y_true, y_pred), 2))\\n\\n'"
      ]
     },
     "execution_count": 216,
     "metadata": {},
     "output_type": "execute_result"
    }
   ],
   "source": [
    "# tuning parameters\n",
    "\n",
    "'''\n",
    "\n",
    "# Number of trees in random forest\n",
    "n_estimators = [int(x) for x in np.linspace(start = 200, stop = 5000, num = 30)]\n",
    "# Number of features to consider at every split\n",
    "max_features = ['auto', 'sqrt']\n",
    "# Maximum number of levels in tree\n",
    "max_depth = [int(x) for x in np.linspace(10, 110, num = 11)]\n",
    "max_depth.append(None)\n",
    "# Minimum number of samples required to split a node\n",
    "min_samples_split = [2, 5, 10]\n",
    "# Minimum number of samples required at each leaf node\n",
    "min_samples_leaf = [1, 2, 4]\n",
    "# Method of selecting samples for training each tree\n",
    "bootstrap = [True, False]\n",
    "# Create the random grid\n",
    "hyperparameter_space = {'n_estimators': n_estimators,\n",
    "               'max_features': max_features,\n",
    "               'max_depth': max_depth,\n",
    "               'min_samples_split': [1,2,3,4,5,6,8,10],\n",
    "               'min_samples_leaf': [1,2,4,6,8,10,20,30],\n",
    "               'bootstrap': bootstrap}\n",
    "\n",
    "\n",
    "rdf_clf = RandomForestClassifier()\n",
    "\n",
    "rs = RandomizedSearchCV(rdf_clf, param_distributions=hyperparameter_space,\n",
    "                        n_iter=30, scoring=\"accuracy\", random_state=0,  # 30 iter \n",
    "                        n_jobs=-1, cv=5, return_train_score=True)\n",
    "\n",
    "from sklearn.model_selection import train_test_split\n",
    "\n",
    "rs.fit(X_train, y_train)\n",
    "print(\"Optimal hyperparameter combination:\", rs.best_params_)\n",
    "print()\n",
    "print(\"Mean cross-validated training accuracy score:\",\n",
    "      rs.best_score_)\n",
    "\n",
    "# no cross validation, yes hyper parameter tuning\n",
    "\n",
    "rs.best_estimator_.fit(X_train, y_train)\n",
    "y_pred = rs.best_estimator_.predict(X_test) # Predictions\n",
    "y_true = y_test # True values\n",
    "\n",
    "print(\"Test accuracy:\", np.round(accuracy_score(y_true, y_pred), 2))\n",
    "\n",
    "'''\n",
    "\n",
    "# takes about 6 min"
   ]
  },
  {
   "cell_type": "code",
   "execution_count": 217,
   "metadata": {},
   "outputs": [
    {
     "name": "stdout",
     "output_type": "stream",
     "text": [
      "Test accuracy: 0.87\n"
     ]
    }
   ],
   "source": [
    "params = {'n_estimators': 4503, 'min_samples_split': 3, 'min_samples_leaf': 2, 'max_features': 'auto', 'max_depth': 100, 'bootstrap': False}\n",
    "\n",
    "# no cross validation, yes hyper parameter tuning\n",
    "\n",
    "rdf_clf = RandomForestClassifier(n_estimators=params['n_estimators'], min_samples_split= params['min_samples_split'], min_samples_leaf= params['min_samples_leaf'], max_features=params['max_features'], max_depth=params['max_depth'], bootstrap=params['bootstrap'])\n",
    "\n",
    "rdf_clf.fit(X_train, y_train)\n",
    "y_pred = rdf_clf.predict(X_test) # Predictions\n",
    "y_true = y_test # True values\n",
    "\n",
    "print(\"Test accuracy:\", np.round(accuracy_score(y_true, y_pred), 2))"
   ]
  },
  {
   "cell_type": "code",
   "execution_count": 218,
   "metadata": {},
   "outputs": [
    {
     "name": "stdout",
     "output_type": "stream",
     "text": [
      "[[60  7]\n",
      " [10 50]]\n"
     ]
    },
    {
     "ename": "KeyboardInterrupt",
     "evalue": "",
     "output_type": "error",
     "traceback": [
      "\u001b[1;31m---------------------------------------------------------------------------\u001b[0m",
      "\u001b[1;31mKeyboardInterrupt\u001b[0m                         Traceback (most recent call last)",
      "\u001b[1;32m~\\AppData\\Local\\Temp/ipykernel_18564/1205068246.py\u001b[0m in \u001b[0;36m<module>\u001b[1;34m\u001b[0m\n\u001b[0;32m      2\u001b[0m \u001b[1;33m\u001b[0m\u001b[0m\n\u001b[0;32m      3\u001b[0m \u001b[1;31m#define metrics\u001b[0m\u001b[1;33m\u001b[0m\u001b[1;33m\u001b[0m\u001b[1;33m\u001b[0m\u001b[0m\n\u001b[1;32m----> 4\u001b[1;33m \u001b[0my_pred_proba\u001b[0m \u001b[1;33m=\u001b[0m \u001b[0mrdf_clf\u001b[0m\u001b[1;33m.\u001b[0m\u001b[0mpredict_proba\u001b[0m\u001b[1;33m(\u001b[0m\u001b[0mX_test\u001b[0m\u001b[1;33m)\u001b[0m\u001b[1;33m[\u001b[0m\u001b[1;33m:\u001b[0m\u001b[1;33m:\u001b[0m\u001b[1;33m,\u001b[0m\u001b[1;36m1\u001b[0m\u001b[1;33m]\u001b[0m\u001b[1;33m\u001b[0m\u001b[1;33m\u001b[0m\u001b[0m\n\u001b[0m\u001b[0;32m      5\u001b[0m \u001b[0mfpr\u001b[0m\u001b[1;33m,\u001b[0m \u001b[0mtpr\u001b[0m\u001b[1;33m,\u001b[0m \u001b[0m_\u001b[0m \u001b[1;33m=\u001b[0m \u001b[0mmetrics\u001b[0m\u001b[1;33m.\u001b[0m\u001b[0mroc_curve\u001b[0m\u001b[1;33m(\u001b[0m\u001b[0my_test\u001b[0m\u001b[1;33m,\u001b[0m  \u001b[0my_pred_proba\u001b[0m\u001b[1;33m)\u001b[0m\u001b[1;33m\u001b[0m\u001b[1;33m\u001b[0m\u001b[0m\n\u001b[0;32m      6\u001b[0m \u001b[1;33m\u001b[0m\u001b[0m\n",
      "\u001b[1;32m~\\Documents\\anaconda3\\envs\\python_environment_2\\lib\\site-packages\\sklearn\\ensemble\\_forest.py\u001b[0m in \u001b[0;36mpredict_proba\u001b[1;34m(self, X)\u001b[0m\n\u001b[0;32m    685\u001b[0m             delayed(_accumulate_prediction)(e.predict_proba, X, all_proba,\n\u001b[0;32m    686\u001b[0m                                             lock)\n\u001b[1;32m--> 687\u001b[1;33m             for e in self.estimators_)\n\u001b[0m\u001b[0;32m    688\u001b[0m \u001b[1;33m\u001b[0m\u001b[0m\n\u001b[0;32m    689\u001b[0m         \u001b[1;32mfor\u001b[0m \u001b[0mproba\u001b[0m \u001b[1;32min\u001b[0m \u001b[0mall_proba\u001b[0m\u001b[1;33m:\u001b[0m\u001b[1;33m\u001b[0m\u001b[1;33m\u001b[0m\u001b[0m\n",
      "\u001b[1;32m~\\Documents\\anaconda3\\envs\\python_environment_2\\lib\\site-packages\\joblib\\parallel.py\u001b[0m in \u001b[0;36m__call__\u001b[1;34m(self, iterable)\u001b[0m\n\u001b[0;32m   1044\u001b[0m                 \u001b[0mself\u001b[0m\u001b[1;33m.\u001b[0m\u001b[0m_iterating\u001b[0m \u001b[1;33m=\u001b[0m \u001b[0mself\u001b[0m\u001b[1;33m.\u001b[0m\u001b[0m_original_iterator\u001b[0m \u001b[1;32mis\u001b[0m \u001b[1;32mnot\u001b[0m \u001b[1;32mNone\u001b[0m\u001b[1;33m\u001b[0m\u001b[1;33m\u001b[0m\u001b[0m\n\u001b[0;32m   1045\u001b[0m \u001b[1;33m\u001b[0m\u001b[0m\n\u001b[1;32m-> 1046\u001b[1;33m             \u001b[1;32mwhile\u001b[0m \u001b[0mself\u001b[0m\u001b[1;33m.\u001b[0m\u001b[0mdispatch_one_batch\u001b[0m\u001b[1;33m(\u001b[0m\u001b[0miterator\u001b[0m\u001b[1;33m)\u001b[0m\u001b[1;33m:\u001b[0m\u001b[1;33m\u001b[0m\u001b[1;33m\u001b[0m\u001b[0m\n\u001b[0m\u001b[0;32m   1047\u001b[0m                 \u001b[1;32mpass\u001b[0m\u001b[1;33m\u001b[0m\u001b[1;33m\u001b[0m\u001b[0m\n\u001b[0;32m   1048\u001b[0m \u001b[1;33m\u001b[0m\u001b[0m\n",
      "\u001b[1;32m~\\Documents\\anaconda3\\envs\\python_environment_2\\lib\\site-packages\\joblib\\parallel.py\u001b[0m in \u001b[0;36mdispatch_one_batch\u001b[1;34m(self, iterator)\u001b[0m\n\u001b[0;32m    859\u001b[0m                 \u001b[1;32mreturn\u001b[0m \u001b[1;32mFalse\u001b[0m\u001b[1;33m\u001b[0m\u001b[1;33m\u001b[0m\u001b[0m\n\u001b[0;32m    860\u001b[0m             \u001b[1;32melse\u001b[0m\u001b[1;33m:\u001b[0m\u001b[1;33m\u001b[0m\u001b[1;33m\u001b[0m\u001b[0m\n\u001b[1;32m--> 861\u001b[1;33m                 \u001b[0mself\u001b[0m\u001b[1;33m.\u001b[0m\u001b[0m_dispatch\u001b[0m\u001b[1;33m(\u001b[0m\u001b[0mtasks\u001b[0m\u001b[1;33m)\u001b[0m\u001b[1;33m\u001b[0m\u001b[1;33m\u001b[0m\u001b[0m\n\u001b[0m\u001b[0;32m    862\u001b[0m                 \u001b[1;32mreturn\u001b[0m \u001b[1;32mTrue\u001b[0m\u001b[1;33m\u001b[0m\u001b[1;33m\u001b[0m\u001b[0m\n\u001b[0;32m    863\u001b[0m \u001b[1;33m\u001b[0m\u001b[0m\n",
      "\u001b[1;32m~\\Documents\\anaconda3\\envs\\python_environment_2\\lib\\site-packages\\joblib\\parallel.py\u001b[0m in \u001b[0;36m_dispatch\u001b[1;34m(self, batch)\u001b[0m\n\u001b[0;32m    777\u001b[0m         \u001b[1;32mwith\u001b[0m \u001b[0mself\u001b[0m\u001b[1;33m.\u001b[0m\u001b[0m_lock\u001b[0m\u001b[1;33m:\u001b[0m\u001b[1;33m\u001b[0m\u001b[1;33m\u001b[0m\u001b[0m\n\u001b[0;32m    778\u001b[0m             \u001b[0mjob_idx\u001b[0m \u001b[1;33m=\u001b[0m \u001b[0mlen\u001b[0m\u001b[1;33m(\u001b[0m\u001b[0mself\u001b[0m\u001b[1;33m.\u001b[0m\u001b[0m_jobs\u001b[0m\u001b[1;33m)\u001b[0m\u001b[1;33m\u001b[0m\u001b[1;33m\u001b[0m\u001b[0m\n\u001b[1;32m--> 779\u001b[1;33m             \u001b[0mjob\u001b[0m \u001b[1;33m=\u001b[0m \u001b[0mself\u001b[0m\u001b[1;33m.\u001b[0m\u001b[0m_backend\u001b[0m\u001b[1;33m.\u001b[0m\u001b[0mapply_async\u001b[0m\u001b[1;33m(\u001b[0m\u001b[0mbatch\u001b[0m\u001b[1;33m,\u001b[0m \u001b[0mcallback\u001b[0m\u001b[1;33m=\u001b[0m\u001b[0mcb\u001b[0m\u001b[1;33m)\u001b[0m\u001b[1;33m\u001b[0m\u001b[1;33m\u001b[0m\u001b[0m\n\u001b[0m\u001b[0;32m    780\u001b[0m             \u001b[1;31m# A job can complete so quickly than its callback is\u001b[0m\u001b[1;33m\u001b[0m\u001b[1;33m\u001b[0m\u001b[1;33m\u001b[0m\u001b[0m\n\u001b[0;32m    781\u001b[0m             \u001b[1;31m# called before we get here, causing self._jobs to\u001b[0m\u001b[1;33m\u001b[0m\u001b[1;33m\u001b[0m\u001b[1;33m\u001b[0m\u001b[0m\n",
      "\u001b[1;32m~\\Documents\\anaconda3\\envs\\python_environment_2\\lib\\site-packages\\joblib\\_parallel_backends.py\u001b[0m in \u001b[0;36mapply_async\u001b[1;34m(self, func, callback)\u001b[0m\n\u001b[0;32m    206\u001b[0m     \u001b[1;32mdef\u001b[0m \u001b[0mapply_async\u001b[0m\u001b[1;33m(\u001b[0m\u001b[0mself\u001b[0m\u001b[1;33m,\u001b[0m \u001b[0mfunc\u001b[0m\u001b[1;33m,\u001b[0m \u001b[0mcallback\u001b[0m\u001b[1;33m=\u001b[0m\u001b[1;32mNone\u001b[0m\u001b[1;33m)\u001b[0m\u001b[1;33m:\u001b[0m\u001b[1;33m\u001b[0m\u001b[1;33m\u001b[0m\u001b[0m\n\u001b[0;32m    207\u001b[0m         \u001b[1;34m\"\"\"Schedule a func to be run\"\"\"\u001b[0m\u001b[1;33m\u001b[0m\u001b[1;33m\u001b[0m\u001b[0m\n\u001b[1;32m--> 208\u001b[1;33m         \u001b[0mresult\u001b[0m \u001b[1;33m=\u001b[0m \u001b[0mImmediateResult\u001b[0m\u001b[1;33m(\u001b[0m\u001b[0mfunc\u001b[0m\u001b[1;33m)\u001b[0m\u001b[1;33m\u001b[0m\u001b[1;33m\u001b[0m\u001b[0m\n\u001b[0m\u001b[0;32m    209\u001b[0m         \u001b[1;32mif\u001b[0m \u001b[0mcallback\u001b[0m\u001b[1;33m:\u001b[0m\u001b[1;33m\u001b[0m\u001b[1;33m\u001b[0m\u001b[0m\n\u001b[0;32m    210\u001b[0m             \u001b[0mcallback\u001b[0m\u001b[1;33m(\u001b[0m\u001b[0mresult\u001b[0m\u001b[1;33m)\u001b[0m\u001b[1;33m\u001b[0m\u001b[1;33m\u001b[0m\u001b[0m\n",
      "\u001b[1;32m~\\Documents\\anaconda3\\envs\\python_environment_2\\lib\\site-packages\\joblib\\_parallel_backends.py\u001b[0m in \u001b[0;36m__init__\u001b[1;34m(self, batch)\u001b[0m\n\u001b[0;32m    570\u001b[0m         \u001b[1;31m# Don't delay the application, to avoid keeping the input\u001b[0m\u001b[1;33m\u001b[0m\u001b[1;33m\u001b[0m\u001b[1;33m\u001b[0m\u001b[0m\n\u001b[0;32m    571\u001b[0m         \u001b[1;31m# arguments in memory\u001b[0m\u001b[1;33m\u001b[0m\u001b[1;33m\u001b[0m\u001b[1;33m\u001b[0m\u001b[0m\n\u001b[1;32m--> 572\u001b[1;33m         \u001b[0mself\u001b[0m\u001b[1;33m.\u001b[0m\u001b[0mresults\u001b[0m \u001b[1;33m=\u001b[0m \u001b[0mbatch\u001b[0m\u001b[1;33m(\u001b[0m\u001b[1;33m)\u001b[0m\u001b[1;33m\u001b[0m\u001b[1;33m\u001b[0m\u001b[0m\n\u001b[0m\u001b[0;32m    573\u001b[0m \u001b[1;33m\u001b[0m\u001b[0m\n\u001b[0;32m    574\u001b[0m     \u001b[1;32mdef\u001b[0m \u001b[0mget\u001b[0m\u001b[1;33m(\u001b[0m\u001b[0mself\u001b[0m\u001b[1;33m)\u001b[0m\u001b[1;33m:\u001b[0m\u001b[1;33m\u001b[0m\u001b[1;33m\u001b[0m\u001b[0m\n",
      "\u001b[1;32m~\\Documents\\anaconda3\\envs\\python_environment_2\\lib\\site-packages\\joblib\\parallel.py\u001b[0m in \u001b[0;36m__call__\u001b[1;34m(self)\u001b[0m\n\u001b[0;32m    261\u001b[0m         \u001b[1;32mwith\u001b[0m \u001b[0mparallel_backend\u001b[0m\u001b[1;33m(\u001b[0m\u001b[0mself\u001b[0m\u001b[1;33m.\u001b[0m\u001b[0m_backend\u001b[0m\u001b[1;33m,\u001b[0m \u001b[0mn_jobs\u001b[0m\u001b[1;33m=\u001b[0m\u001b[0mself\u001b[0m\u001b[1;33m.\u001b[0m\u001b[0m_n_jobs\u001b[0m\u001b[1;33m)\u001b[0m\u001b[1;33m:\u001b[0m\u001b[1;33m\u001b[0m\u001b[1;33m\u001b[0m\u001b[0m\n\u001b[0;32m    262\u001b[0m             return [func(*args, **kwargs)\n\u001b[1;32m--> 263\u001b[1;33m                     for func, args, kwargs in self.items]\n\u001b[0m\u001b[0;32m    264\u001b[0m \u001b[1;33m\u001b[0m\u001b[0m\n\u001b[0;32m    265\u001b[0m     \u001b[1;32mdef\u001b[0m \u001b[0m__reduce__\u001b[0m\u001b[1;33m(\u001b[0m\u001b[0mself\u001b[0m\u001b[1;33m)\u001b[0m\u001b[1;33m:\u001b[0m\u001b[1;33m\u001b[0m\u001b[1;33m\u001b[0m\u001b[0m\n",
      "\u001b[1;32m~\\Documents\\anaconda3\\envs\\python_environment_2\\lib\\site-packages\\joblib\\parallel.py\u001b[0m in \u001b[0;36m<listcomp>\u001b[1;34m(.0)\u001b[0m\n\u001b[0;32m    261\u001b[0m         \u001b[1;32mwith\u001b[0m \u001b[0mparallel_backend\u001b[0m\u001b[1;33m(\u001b[0m\u001b[0mself\u001b[0m\u001b[1;33m.\u001b[0m\u001b[0m_backend\u001b[0m\u001b[1;33m,\u001b[0m \u001b[0mn_jobs\u001b[0m\u001b[1;33m=\u001b[0m\u001b[0mself\u001b[0m\u001b[1;33m.\u001b[0m\u001b[0m_n_jobs\u001b[0m\u001b[1;33m)\u001b[0m\u001b[1;33m:\u001b[0m\u001b[1;33m\u001b[0m\u001b[1;33m\u001b[0m\u001b[0m\n\u001b[0;32m    262\u001b[0m             return [func(*args, **kwargs)\n\u001b[1;32m--> 263\u001b[1;33m                     for func, args, kwargs in self.items]\n\u001b[0m\u001b[0;32m    264\u001b[0m \u001b[1;33m\u001b[0m\u001b[0m\n\u001b[0;32m    265\u001b[0m     \u001b[1;32mdef\u001b[0m \u001b[0m__reduce__\u001b[0m\u001b[1;33m(\u001b[0m\u001b[0mself\u001b[0m\u001b[1;33m)\u001b[0m\u001b[1;33m:\u001b[0m\u001b[1;33m\u001b[0m\u001b[1;33m\u001b[0m\u001b[0m\n",
      "\u001b[1;32m~\\Documents\\anaconda3\\envs\\python_environment_2\\lib\\site-packages\\sklearn\\utils\\fixes.py\u001b[0m in \u001b[0;36m__call__\u001b[1;34m(self, *args, **kwargs)\u001b[0m\n\u001b[0;32m    220\u001b[0m     \u001b[1;32mdef\u001b[0m \u001b[0m__call__\u001b[0m\u001b[1;33m(\u001b[0m\u001b[0mself\u001b[0m\u001b[1;33m,\u001b[0m \u001b[1;33m*\u001b[0m\u001b[0margs\u001b[0m\u001b[1;33m,\u001b[0m \u001b[1;33m**\u001b[0m\u001b[0mkwargs\u001b[0m\u001b[1;33m)\u001b[0m\u001b[1;33m:\u001b[0m\u001b[1;33m\u001b[0m\u001b[1;33m\u001b[0m\u001b[0m\n\u001b[0;32m    221\u001b[0m         \u001b[1;32mwith\u001b[0m \u001b[0mconfig_context\u001b[0m\u001b[1;33m(\u001b[0m\u001b[1;33m**\u001b[0m\u001b[0mself\u001b[0m\u001b[1;33m.\u001b[0m\u001b[0mconfig\u001b[0m\u001b[1;33m)\u001b[0m\u001b[1;33m:\u001b[0m\u001b[1;33m\u001b[0m\u001b[1;33m\u001b[0m\u001b[0m\n\u001b[1;32m--> 222\u001b[1;33m             \u001b[1;32mreturn\u001b[0m \u001b[0mself\u001b[0m\u001b[1;33m.\u001b[0m\u001b[0mfunction\u001b[0m\u001b[1;33m(\u001b[0m\u001b[1;33m*\u001b[0m\u001b[0margs\u001b[0m\u001b[1;33m,\u001b[0m \u001b[1;33m**\u001b[0m\u001b[0mkwargs\u001b[0m\u001b[1;33m)\u001b[0m\u001b[1;33m\u001b[0m\u001b[1;33m\u001b[0m\u001b[0m\n\u001b[0m",
      "\u001b[1;32m~\\Documents\\anaconda3\\envs\\python_environment_2\\lib\\site-packages\\sklearn\\ensemble\\_forest.py\u001b[0m in \u001b[0;36m_accumulate_prediction\u001b[1;34m(predict, X, out, lock)\u001b[0m\n\u001b[0;32m    465\u001b[0m     \u001b[0mcomplains\u001b[0m \u001b[0mthat\u001b[0m \u001b[0mit\u001b[0m \u001b[0mcannot\u001b[0m \u001b[0mpickle\u001b[0m \u001b[0mit\u001b[0m \u001b[0mwhen\u001b[0m \u001b[0mplaced\u001b[0m \u001b[0mthere\u001b[0m\u001b[1;33m.\u001b[0m\u001b[1;33m\u001b[0m\u001b[1;33m\u001b[0m\u001b[0m\n\u001b[0;32m    466\u001b[0m     \"\"\"\n\u001b[1;32m--> 467\u001b[1;33m     \u001b[0mprediction\u001b[0m \u001b[1;33m=\u001b[0m \u001b[0mpredict\u001b[0m\u001b[1;33m(\u001b[0m\u001b[0mX\u001b[0m\u001b[1;33m,\u001b[0m \u001b[0mcheck_input\u001b[0m\u001b[1;33m=\u001b[0m\u001b[1;32mFalse\u001b[0m\u001b[1;33m)\u001b[0m\u001b[1;33m\u001b[0m\u001b[1;33m\u001b[0m\u001b[0m\n\u001b[0m\u001b[0;32m    468\u001b[0m     \u001b[1;32mwith\u001b[0m \u001b[0mlock\u001b[0m\u001b[1;33m:\u001b[0m\u001b[1;33m\u001b[0m\u001b[1;33m\u001b[0m\u001b[0m\n\u001b[0;32m    469\u001b[0m         \u001b[1;32mif\u001b[0m \u001b[0mlen\u001b[0m\u001b[1;33m(\u001b[0m\u001b[0mout\u001b[0m\u001b[1;33m)\u001b[0m \u001b[1;33m==\u001b[0m \u001b[1;36m1\u001b[0m\u001b[1;33m:\u001b[0m\u001b[1;33m\u001b[0m\u001b[1;33m\u001b[0m\u001b[0m\n",
      "\u001b[1;32m~\\Documents\\anaconda3\\envs\\python_environment_2\\lib\\site-packages\\sklearn\\tree\\_classes.py\u001b[0m in \u001b[0;36mpredict_proba\u001b[1;34m(self, X, check_input)\u001b[0m\n\u001b[0;32m    934\u001b[0m         \u001b[0mcheck_is_fitted\u001b[0m\u001b[1;33m(\u001b[0m\u001b[0mself\u001b[0m\u001b[1;33m)\u001b[0m\u001b[1;33m\u001b[0m\u001b[1;33m\u001b[0m\u001b[0m\n\u001b[0;32m    935\u001b[0m         \u001b[0mX\u001b[0m \u001b[1;33m=\u001b[0m \u001b[0mself\u001b[0m\u001b[1;33m.\u001b[0m\u001b[0m_validate_X_predict\u001b[0m\u001b[1;33m(\u001b[0m\u001b[0mX\u001b[0m\u001b[1;33m,\u001b[0m \u001b[0mcheck_input\u001b[0m\u001b[1;33m)\u001b[0m\u001b[1;33m\u001b[0m\u001b[1;33m\u001b[0m\u001b[0m\n\u001b[1;32m--> 936\u001b[1;33m         \u001b[0mproba\u001b[0m \u001b[1;33m=\u001b[0m \u001b[0mself\u001b[0m\u001b[1;33m.\u001b[0m\u001b[0mtree_\u001b[0m\u001b[1;33m.\u001b[0m\u001b[0mpredict\u001b[0m\u001b[1;33m(\u001b[0m\u001b[0mX\u001b[0m\u001b[1;33m)\u001b[0m\u001b[1;33m\u001b[0m\u001b[1;33m\u001b[0m\u001b[0m\n\u001b[0m\u001b[0;32m    937\u001b[0m \u001b[1;33m\u001b[0m\u001b[0m\n\u001b[0;32m    938\u001b[0m         \u001b[1;32mif\u001b[0m \u001b[0mself\u001b[0m\u001b[1;33m.\u001b[0m\u001b[0mn_outputs_\u001b[0m \u001b[1;33m==\u001b[0m \u001b[1;36m1\u001b[0m\u001b[1;33m:\u001b[0m\u001b[1;33m\u001b[0m\u001b[1;33m\u001b[0m\u001b[0m\n",
      "\u001b[1;31mKeyboardInterrupt\u001b[0m: "
     ]
    }
   ],
   "source": [
    "\n",
    "print(metrics.confusion_matrix(y_test, y_pred))\n",
    "\n",
    "#define metrics\n",
    "y_pred_proba = rdf_clf.predict_proba(X_test)[::,1]\n",
    "fpr, tpr, _ = metrics.roc_curve(y_test,  y_pred_proba)\n",
    "\n",
    "rdf_fpr, rdf_tpr = fpr,tpr\n",
    "\n",
    "#create ROC curve\n",
    "plt.plot(nhp_fpr, nhp_tpr, label='Before tuning')\n",
    "plt.plot(fpr,tpr, label='After tuning')\n",
    "plt.ylabel('True Positive Rate')\n",
    "plt.xlabel('False Positive Rate')\n",
    "plt.legend(loc='best')\n",
    "plt.title('ROC curve')\n",
    "plt.show()\n",
    "\n",
    "\n",
    "auc = metrics.roc_auc_score(y_test, y_pred_proba)\n",
    "print('AUC score',auc)"
   ]
  },
  {
   "cell_type": "code",
   "execution_count": null,
   "metadata": {},
   "outputs": [
    {
     "name": "stdout",
     "output_type": "stream",
     "text": [
      "Train scores:\n",
      "0.9991115494192417\n",
      "Test scores:\n",
      "0.9052620456466609\n"
     ]
    }
   ],
   "source": [
    "# yes cross validation, yes hyper parameter tuning\n",
    "\n",
    "# params = rs.best_params_\n",
    "\n",
    "rdf_clf = RandomForestClassifier(n_estimators=params['n_estimators'], min_samples_split= params['min_samples_split'], min_samples_leaf= params['min_samples_leaf'], max_features=params['max_features'], max_depth=params['max_depth'], bootstrap=params['bootstrap'])\n",
    "\n",
    "scores = model_selection.cross_validate(rdf_clf, X, y, cv=5, scoring=\"accuracy\",  return_train_score=True)\n",
    "\n",
    "print('Train scores:')\n",
    "print(scores['train_score'].mean())\n",
    "print('Test scores:')\n",
    "print(scores['test_score'].mean())"
   ]
  },
  {
   "cell_type": "code",
   "execution_count": null,
   "metadata": {},
   "outputs": [
    {
     "data": {
      "text/plain": [
       "'\\nrdf_clf.fit(X_train, y_train)\\nfeature_imp = pd.Series(rdf_clf.feature_importances_, index = X_train.columns).sort_values(ascending = False)\\nfeature_imp\\n'"
      ]
     },
     "execution_count": 66,
     "metadata": {},
     "output_type": "execute_result"
    }
   ],
   "source": [
    "# using the feature importance variable\n",
    "'''\n",
    "rdf_clf.fit(X_train, y_train)\n",
    "feature_imp = pd.Series(rdf_clf.feature_importances_, index = X_train.columns).sort_values(ascending = False)\n",
    "feature_imp\n",
    "'''"
   ]
  },
  {
   "cell_type": "markdown",
   "metadata": {},
   "source": [
    "<h4> KNN </h4>"
   ]
  },
  {
   "cell_type": "code",
   "execution_count": null,
   "metadata": {},
   "outputs": [
    {
     "name": "stdout",
     "output_type": "stream",
     "text": [
      "0.6054381515919978\n"
     ]
    }
   ],
   "source": [
    "# yes cross validation, no hyper parameter tuning\n",
    "\n",
    "from sklearn.neighbors import KNeighborsClassifier\n",
    "\n",
    "knn_clf = KNeighborsClassifier()\n",
    "\n",
    "scores = cross_val_score(knn_clf, X, y, cv=5, scoring=\"accuracy\")\n",
    "\n",
    "print(scores.mean())"
   ]
  },
  {
   "cell_type": "code",
   "execution_count": null,
   "metadata": {},
   "outputs": [
    {
     "name": "stdout",
     "output_type": "stream",
     "text": [
      "0.6377952755905512\n"
     ]
    }
   ],
   "source": [
    "# no cross validation, no hyper parameter tuning\n",
    "\n",
    "knn_clf = KNeighborsClassifier()\n",
    "\n",
    "knn_clf.fit(X_train, y_train)\n",
    "\n",
    "y_pred = knn_clf.predict(X_test)\n",
    "\n",
    "print(accuracy_score(y_test, y_pred))"
   ]
  },
  {
   "cell_type": "code",
   "execution_count": null,
   "metadata": {},
   "outputs": [
    {
     "name": "stdout",
     "output_type": "stream",
     "text": [
      "AUC score 0.6881559220389805\n"
     ]
    }
   ],
   "source": [
    "#define metrics\n",
    "y_pred_proba = knn_clf.predict_proba(X_test)[::,1]\n",
    "fpr, tpr, _ = metrics.roc_curve(y_test,  y_pred_proba)\n",
    "\n",
    "nhp_fpr, nhp_tpr = fpr, tpr\n",
    "\n",
    "auc = metrics.roc_auc_score(y_test, y_pred_proba)\n",
    "print('AUC score',auc)"
   ]
  },
  {
   "cell_type": "code",
   "execution_count": null,
   "metadata": {},
   "outputs": [
    {
     "name": "stdout",
     "output_type": "stream",
     "text": [
      "Optimal hyperparameter combination: {'weights': 'distance', 'n_neighbors': 9, 'metric': 'manhattan'}\n",
      "\n",
      "Mean cross-validated training accuracy score: 0.7363733488733488\n",
      "Test accuracy: 0.73\n"
     ]
    }
   ],
   "source": [
    "# tuning hyper parameters\n",
    "\n",
    "hyperparameter_space = { 'n_neighbors' : [5,7,9,11,13,15],\n",
    "               'weights' : ['uniform','distance'],\n",
    "               'metric' : ['minkowski','euclidean','manhattan']}\n",
    "\n",
    "knn_clf = KNeighborsClassifier()\n",
    "\n",
    "rs = RandomizedSearchCV(knn_clf, param_distributions=hyperparameter_space,\n",
    "                        n_iter=30, scoring=\"accuracy\", random_state=0,\n",
    "                        n_jobs=-1, cv=5, return_train_score=True)\n",
    "\n",
    "from sklearn.model_selection import train_test_split\n",
    "\n",
    "rs.fit(X_train, y_train)\n",
    "print(\"Optimal hyperparameter combination:\", rs.best_params_)\n",
    "print()\n",
    "print(\"Mean cross-validated training accuracy score:\",\n",
    "      rs.best_score_)\n",
    "\n",
    "# no cross validation, yes hyper parameter tuning\n",
    "\n",
    "rs.best_estimator_.fit(X_train, y_train)\n",
    "y_pred = rs.best_estimator_.predict(X_test) # Predictions\n",
    "y_true = y_test # True values\n",
    "\n",
    "print(\"Test accuracy:\", np.round(accuracy_score(y_true, y_pred), 2))"
   ]
  },
  {
   "cell_type": "code",
   "execution_count": null,
   "metadata": {},
   "outputs": [
    {
     "name": "stdout",
     "output_type": "stream",
     "text": [
      "[[52  6]\n",
      " [28 41]]\n"
     ]
    },
    {
     "data": {
      "image/png": "[encoded data removed]",
      "text/plain": [
       "<Figure size 720x576 with 1 Axes>"
      ]
     },
     "metadata": {
      "needs_background": "light"
     },
     "output_type": "display_data"
    },
    {
     "name": "stdout",
     "output_type": "stream",
     "text": [
      "AUC score 0.9009245377311343\n"
     ]
    }
   ],
   "source": [
    "print(metrics.confusion_matrix(y_test, y_pred))\n",
    "\n",
    "#define metrics\n",
    "y_pred_proba = rs.best_estimator_.predict_proba(X_test)[::,1]\n",
    "fpr, tpr, _ = metrics.roc_curve(y_test,  y_pred_proba)\n",
    "\n",
    "knn_fpr, knn_tpr = fpr,tpr\n",
    "\n",
    "#create ROC curve\n",
    "plt.plot(nhp_fpr, nhp_tpr, label='Before tuning')\n",
    "plt.plot(fpr,tpr, label='After tuning')\n",
    "plt.ylabel('True Positive Rate')\n",
    "plt.xlabel('False Positive Rate')\n",
    "plt.legend(loc='best')\n",
    "plt.title('ROC curve')\n",
    "plt.show()\n",
    "\n",
    "auc = metrics.roc_auc_score(y_test, y_pred_proba)\n",
    "print('AUC score',auc)"
   ]
  },
  {
   "cell_type": "code",
   "execution_count": null,
   "metadata": {},
   "outputs": [
    {
     "data": {
      "text/plain": [
       "\"\\ntrying two feature bundary\\n\\ntwo_features = pd.concat([pd.DataFrame(X_train)['Credit_History'], pd.DataFrame(X_train)['Property_Area_Semiurban']], axis=1)\\n\\nfrom mlxtend.plotting import plot_decision_regions\\n\\ndef knn_comparison(k):\\n    clf = KNeighborsClassifier(n_neighbors=k)\\n    clf.fit(two_features.values, y_train.values)\\n    # Plotting decision region\\n    plot_decision_regions(two_features.values, y_train.values, clf=clf, legend=2)\\n    # Adding axes annotations\\n    plt.xlabel('X')\\n    plt.ylabel('Y')\\n    plt.title('Knn with K='+ str(k))\\n    plt.show()\\n \\nfor k in [5,7,9,11,13,15]:\\n    \\n    knn_comparison(k)\\n    \\n\""
      ]
     },
     "execution_count": 239,
     "metadata": {},
     "output_type": "execute_result"
    }
   ],
   "source": [
    "'''\n",
    "trying two feature bundary\n",
    "\n",
    "two_features = pd.concat([pd.DataFrame(X_train)['Credit_History'], pd.DataFrame(X_train)['Property_Area_Semiurban']], axis=1)\n",
    "\n",
    "from mlxtend.plotting import plot_decision_regions\n",
    "\n",
    "def knn_comparison(k):\n",
    "    clf = KNeighborsClassifier(n_neighbors=k)\n",
    "    clf.fit(two_features.values, y_train.values)\n",
    "    # Plotting decision region\n",
    "    plot_decision_regions(two_features.values, y_train.values, clf=clf, legend=2)\n",
    "    # Adding axes annotations\n",
    "    plt.xlabel('X')\n",
    "    plt.ylabel('Y')\n",
    "    plt.title('Knn with K='+ str(k))\n",
    "    plt.show()\n",
    " \n",
    "for k in [5,7,9,11,13,15]:\n",
    "    \n",
    "    knn_comparison(k)\n",
    "    \n",
    "'''"
   ]
  },
  {
   "cell_type": "code",
   "execution_count": null,
   "metadata": {},
   "outputs": [
    {
     "name": "stdout",
     "output_type": "stream",
     "text": [
      "Train scores:\n",
      "1.0\n",
      "Test scores:\n",
      "0.7465201465201465\n"
     ]
    }
   ],
   "source": [
    "# yes cross validation, yes hyper parameter tuning\n",
    "\n",
    "params = rs.best_params_\n",
    "\n",
    "knn_clf = KNeighborsClassifier(n_neighbors=params['n_neighbors'], weights=params['weights'], metric=params['metric'])\n",
    "\n",
    "scores = model_selection.cross_validate(knn_clf, X, y, cv=5, scoring=\"accuracy\",  return_train_score=True)\n",
    "\n",
    "print('Train scores:')\n",
    "print(scores['train_score'].mean())\n",
    "print('Test scores:')\n",
    "print(scores['test_score'].mean())"
   ]
  },
  {
   "cell_type": "markdown",
   "metadata": {},
   "source": [
    "<h4> Naive Bayes </h4>"
   ]
  },
  {
   "cell_type": "code",
   "execution_count": null,
   "metadata": {},
   "outputs": [
    {
     "name": "stdout",
     "output_type": "stream",
     "text": [
      "0.7132642998027614\n"
     ]
    }
   ],
   "source": [
    "from sklearn.naive_bayes import GaussianNB\n",
    "\n",
    "# yes cross validation, no hyper parameter tuning\n",
    "\n",
    "g_n_byes = GaussianNB()\n",
    "\n",
    "scores = cross_val_score(g_n_byes, X, y, cv=5, scoring=\"accuracy\")\n",
    "\n",
    "print(scores.mean())"
   ]
  },
  {
   "cell_type": "code",
   "execution_count": null,
   "metadata": {},
   "outputs": [
    {
     "name": "stdout",
     "output_type": "stream",
     "text": [
      "0.7165354330708661\n"
     ]
    }
   ],
   "source": [
    "# no cross validation, no hyper parameter tuning\n",
    "\n",
    "g_n_byes = GaussianNB()\n",
    "\n",
    "g_n_byes.fit(X_train, y_train)\n",
    " \n",
    "y_pred = g_n_byes.predict(X_test)\n",
    "\n",
    "print(accuracy_score(y_test, y_pred))\n"
   ]
  },
  {
   "cell_type": "code",
   "execution_count": null,
   "metadata": {},
   "outputs": [
    {
     "name": "stdout",
     "output_type": "stream",
     "text": [
      "AUC score 0.7236381809095453\n"
     ]
    }
   ],
   "source": [
    "#define metrics\n",
    "y_pred_proba = g_n_byes.predict_proba(X_test)[::,1]\n",
    "fpr, tpr, _ = metrics.roc_curve(y_test,  y_pred_proba)\n",
    "\n",
    "nhp_fpr, nhp_tpr = fpr,tpr\n",
    "\n",
    "auc = metrics.roc_auc_score(y_test, y_pred_proba)\n",
    "print('AUC score',auc)"
   ]
  },
  {
   "cell_type": "code",
   "execution_count": null,
   "metadata": {},
   "outputs": [
    {
     "name": "stdout",
     "output_type": "stream",
     "text": [
      "Optimal hyperparameter combination: {'var_smoothing': 1.2328467394420635e-09}\n",
      "\n",
      "Mean cross-validated training accuracy score: 0.7126651126651127\n",
      "Test accuracy: 0.72\n"
     ]
    }
   ],
   "source": [
    "# tuning hyper parameters\n",
    "\n",
    "hyperparameter_space = { 'var_smoothing': np.logspace(0,-9, num=100)}\n",
    "\n",
    "g_n_byes = GaussianNB()\n",
    "\n",
    "rs = GridSearchCV(g_n_byes, param_grid=hyperparameter_space,\n",
    "                        scoring=\"accuracy\",\n",
    "                        n_jobs=-1, cv=5, return_train_score=True)\n",
    "\n",
    "rs.fit(X_train, y_train)\n",
    "print(\"Optimal hyperparameter combination:\", rs.best_params_)\n",
    "print()\n",
    "print(\"Mean cross-validated training accuracy score:\",\n",
    "      rs.best_score_)\n",
    "\n",
    "# no cross validation, yes hyper parameter tuning\n",
    "\n",
    "rs.best_estimator_.fit(X_train, y_train)\n",
    "y_pred = rs.best_estimator_.predict(X_test) # Predictions\n",
    "y_true = y_test # True values\n",
    "\n",
    "print(\"Test accuracy:\", np.round(accuracy_score(y_true, y_pred), 2))"
   ]
  },
  {
   "cell_type": "code",
   "execution_count": null,
   "metadata": {},
   "outputs": [
    {
     "name": "stdout",
     "output_type": "stream",
     "text": [
      "[[30 28]\n",
      " [ 8 61]]\n"
     ]
    },
    {
     "data": {
      "image/png": "[encoded data removed]",
      "text/plain": [
       "<Figure size 720x576 with 1 Axes>"
      ]
     },
     "metadata": {
      "needs_background": "light"
     },
     "output_type": "display_data"
    },
    {
     "name": "stdout",
     "output_type": "stream",
     "text": [
      "AUC score 0.7268865567216393\n"
     ]
    }
   ],
   "source": [
    "print(metrics.confusion_matrix(y_test, y_pred))\n",
    "\n",
    "#define metrics\n",
    "y_pred_proba = rs.best_estimator_.predict_proba(X_test)[::,1]\n",
    "fpr, tpr, _ = metrics.roc_curve(y_test,  y_pred_proba)\n",
    "\n",
    "gnn_fpr, gnn_tpr = fpr, tpr\n",
    "\n",
    "#create ROC curve\n",
    "plt.plot(nhp_fpr, nhp_tpr, label='Before tuning')\n",
    "plt.plot(fpr,tpr, label='After tuning')\n",
    "plt.ylabel('True Positive Rate')\n",
    "plt.xlabel('False Positive Rate')\n",
    "plt.legend(loc='best')\n",
    "plt.title('ROC curve')\n",
    "plt.show()\n",
    "\n",
    "auc = metrics.roc_auc_score(y_test, y_pred_proba)\n",
    "print('AUC score',auc)"
   ]
  },
  {
   "cell_type": "code",
   "execution_count": null,
   "metadata": {},
   "outputs": [
    {
     "name": "stdout",
     "output_type": "stream",
     "text": [
      "Train scores:\n",
      "0.7135660749506905\n",
      "Test scores:\n",
      "0.7132642998027614\n"
     ]
    }
   ],
   "source": [
    "# yes cross validation, yes hyper parameter tuning\n",
    "\n",
    "params = rs.best_params_\n",
    "\n",
    "g_n_byes = GaussianNB(var_smoothing=params['var_smoothing'])\n",
    "\n",
    "scores = model_selection.cross_validate(g_n_byes, X, y, cv=5, scoring=\"accuracy\",  return_train_score=True)\n",
    "\n",
    "print('Train scores:')\n",
    "print(scores['train_score'].mean())\n",
    "print('Test scores:')\n",
    "print(scores['test_score'].mean())"
   ]
  },
  {
   "cell_type": "markdown",
   "metadata": {},
   "source": [
    "Combined ROC"
   ]
  },
  {
   "cell_type": "code",
   "execution_count": null,
   "metadata": {},
   "outputs": [
    {
     "data": {
      "image/png": "[encoded data removed]",
      "text/plain": [
       "<Figure size 720x576 with 1 Axes>"
      ]
     },
     "metadata": {
      "needs_background": "light"
     },
     "output_type": "display_data"
    }
   ],
   "source": [
    "plt.plot(dt_fpr,dt_tpr, label='Decision tree')\n",
    "plt.plot(rdf_fpr,rdf_tpr, label='Random forest')\n",
    "plt.plot(knn_fpr,knn_tpr, label='KNN')\n",
    "plt.plot(gnn_fpr,gnn_tpr, label='Gaussian Naive Bayes')\n",
    "plt.legend(loc=\"best\")\n",
    "plt.ylabel('True Positive Rate')\n",
    "plt.xlabel('False Positive Rate')\n",
    "plt.title('ROC curve')\n",
    "plt.show()"
   ]
  }
 ],
 "metadata": {
  "kernelspec": {
   "display_name": "base",
   "language": "python",
   "name": "python3"
  },
  "language_info": {
   "codemirror_mode": {
    "name": "ipython",
    "version": 3
   },
   "file_extension": ".py",
   "mimetype": "text/x-python",
   "name": "python",
   "nbconvert_exporter": "python",
   "pygments_lexer": "ipython3",
   "version": "3.7.6 (default, Jan  8 2020, 20:23:39) [MSC v.1916 64 bit (AMD64)]"
  },
  "vscode": {
   "interpreter": {
    "hash": "c8bb994dbad06e511f9407a8423693198edcf30202602d6998576e0fea7ad433"
   }
  }
 },
 "nbformat": 4,
 "nbformat_minor": 4
}
